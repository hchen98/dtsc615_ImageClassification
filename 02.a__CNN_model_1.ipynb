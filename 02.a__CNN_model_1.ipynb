{
 "cells": [
  {
   "cell_type": "markdown",
   "id": "9e60faa1",
   "metadata": {},
   "source": [
    "# Get Started\n",
    "## Activate the Conda env\n",
    "\n",
    "```\n",
    "    # create the env if you have not: conda create --name dtsc615\n",
    "    conda activate dtsc615\n",
    "```\n",
    "\n",
    "## Install the dependencies\n",
    "```\n",
    "    conda install -c anaconda jupyter\n",
    "    conda install -c anaconda tensorflow-gpu\n",
    "    conda install -c anaconda pandas\n",
    "    conda install -c anaconda matplotlib\n",
    "```"
   ]
  },
  {
   "cell_type": "code",
   "execution_count": 2,
   "id": "df020ddf",
   "metadata": {
    "ExecuteTime": {
     "end_time": "2021-12-30T19:19:35.628606Z",
     "start_time": "2021-12-30T19:19:35.626739Z"
    }
   },
   "outputs": [],
   "source": [
    "#!pip install tensorflow\n",
    "#!pip install keras"
   ]
  },
  {
   "cell_type": "code",
   "execution_count": 3,
   "id": "b167aef0",
   "metadata": {},
   "outputs": [
    {
     "name": "stdout",
     "output_type": "stream",
     "text": [
      "/home/hui/.local/share/jupyter\n"
     ]
    },
    {
     "data": {
      "text/plain": [
       "'/home/hui/anaconda3/envs/tensorflow_gpu/bin/python'"
      ]
     },
     "execution_count": 3,
     "metadata": {},
     "output_type": "execute_result"
    }
   ],
   "source": [
    "from jupyter_core.paths import jupyter_data_dir\n",
    "print(jupyter_data_dir())   \n",
    "\n",
    "import sys\n",
    "sys.executable"
   ]
  },
  {
   "cell_type": "code",
   "execution_count": 4,
   "id": "3fce6b84",
   "metadata": {},
   "outputs": [
    {
     "name": "stdout",
     "output_type": "stream",
     "text": [
      "# packages in environment at /home/hui/anaconda3/envs/tensorflow_gpu:\n",
      "#\n",
      "# Name                    Version                   Build  Channel\n",
      "tensorflow-gpu            2.4.1                h30adc30_0  \n"
     ]
    }
   ],
   "source": [
    "!conda list tensorflow-gpu"
   ]
  },
  {
   "cell_type": "markdown",
   "id": "b69aa546",
   "metadata": {},
   "source": [
    "## Get the GPU/CPU info"
   ]
  },
  {
   "cell_type": "code",
   "execution_count": 5,
   "id": "73427fec",
   "metadata": {
    "ExecuteTime": {
     "end_time": "2021-12-30T19:19:39.942595Z",
     "start_time": "2021-12-30T19:19:36.887413Z"
    }
   },
   "outputs": [
    {
     "name": "stdout",
     "output_type": "stream",
     "text": [
      "Here: \n",
      "True\n",
      "\n",
      "#############################################################\n",
      "Default GPU Device: /device:GPU:0\n",
      "#############################################################\n"
     ]
    },
    {
     "name": "stderr",
     "output_type": "stream",
     "text": [
      "2021-12-31 20:25:07.742370: I tensorflow/compiler/jit/xla_gpu_device.cc:99] Not creating XLA devices, tf_xla_enable_xla_devices not set\n",
      "2021-12-31 20:25:07.742553: I tensorflow/stream_executor/cuda/cuda_gpu_executor.cc:941] successful NUMA node read from SysFS had negative value (-1), but there must be at least one NUMA node, so returning NUMA node zero\n",
      "2021-12-31 20:25:07.742998: I tensorflow/core/common_runtime/gpu/gpu_device.cc:1720] Found device 0 with properties: \n",
      "pciBusID: 0000:01:00.0 name: NVIDIA GeForce RTX 2070 with Max-Q Design computeCapability: 7.5\n",
      "coreClock: 1.185GHz coreCount: 36 deviceMemorySize: 7.79GiB deviceMemoryBandwidth: 357.69GiB/s\n",
      "2021-12-31 20:25:07.743047: I tensorflow/stream_executor/platform/default/dso_loader.cc:49] Successfully opened dynamic library libcudart.so.10.1\n",
      "2021-12-31 20:25:07.743073: I tensorflow/stream_executor/platform/default/dso_loader.cc:49] Successfully opened dynamic library libcublas.so.10\n",
      "2021-12-31 20:25:07.743089: I tensorflow/stream_executor/platform/default/dso_loader.cc:49] Successfully opened dynamic library libcublasLt.so.10\n",
      "2021-12-31 20:25:07.743104: I tensorflow/stream_executor/platform/default/dso_loader.cc:49] Successfully opened dynamic library libcufft.so.10\n",
      "2021-12-31 20:25:07.743118: I tensorflow/stream_executor/platform/default/dso_loader.cc:49] Successfully opened dynamic library libcurand.so.10\n",
      "2021-12-31 20:25:07.743132: I tensorflow/stream_executor/platform/default/dso_loader.cc:49] Successfully opened dynamic library libcusolver.so.10\n",
      "2021-12-31 20:25:07.743146: I tensorflow/stream_executor/platform/default/dso_loader.cc:49] Successfully opened dynamic library libcusparse.so.10\n",
      "2021-12-31 20:25:07.743161: I tensorflow/stream_executor/platform/default/dso_loader.cc:49] Successfully opened dynamic library libcudnn.so.7\n",
      "2021-12-31 20:25:07.743237: I tensorflow/stream_executor/cuda/cuda_gpu_executor.cc:941] successful NUMA node read from SysFS had negative value (-1), but there must be at least one NUMA node, so returning NUMA node zero\n",
      "2021-12-31 20:25:07.743876: I tensorflow/stream_executor/cuda/cuda_gpu_executor.cc:941] successful NUMA node read from SysFS had negative value (-1), but there must be at least one NUMA node, so returning NUMA node zero\n",
      "2021-12-31 20:25:07.744239: I tensorflow/core/common_runtime/gpu/gpu_device.cc:1862] Adding visible gpu devices: 0\n",
      "2021-12-31 20:25:08.233260: I tensorflow/core/common_runtime/gpu/gpu_device.cc:1261] Device interconnect StreamExecutor with strength 1 edge matrix:\n",
      "2021-12-31 20:25:08.233293: I tensorflow/core/common_runtime/gpu/gpu_device.cc:1267]      0 \n",
      "2021-12-31 20:25:08.233300: I tensorflow/core/common_runtime/gpu/gpu_device.cc:1280] 0:   N \n",
      "2021-12-31 20:25:08.233513: I tensorflow/stream_executor/cuda/cuda_gpu_executor.cc:941] successful NUMA node read from SysFS had negative value (-1), but there must be at least one NUMA node, so returning NUMA node zero\n",
      "2021-12-31 20:25:08.234277: I tensorflow/stream_executor/cuda/cuda_gpu_executor.cc:941] successful NUMA node read from SysFS had negative value (-1), but there must be at least one NUMA node, so returning NUMA node zero\n",
      "2021-12-31 20:25:08.234964: I tensorflow/stream_executor/cuda/cuda_gpu_executor.cc:941] successful NUMA node read from SysFS had negative value (-1), but there must be at least one NUMA node, so returning NUMA node zero\n",
      "2021-12-31 20:25:08.235390: I tensorflow/core/common_runtime/gpu/gpu_device.cc:1406] Created TensorFlow device (/device:GPU:0 with 6391 MB memory) -> physical GPU (device: 0, name: NVIDIA GeForce RTX 2070 with Max-Q Design, pci bus id: 0000:01:00.0, compute capability: 7.5)\n",
      "2021-12-31 20:25:08.236492: I tensorflow/compiler/jit/xla_gpu_device.cc:99] Not creating XLA devices, tf_xla_enable_xla_devices not set\n",
      "2021-12-31 20:25:08.236608: I tensorflow/stream_executor/cuda/cuda_gpu_executor.cc:941] successful NUMA node read from SysFS had negative value (-1), but there must be at least one NUMA node, so returning NUMA node zero\n",
      "2021-12-31 20:25:08.237193: I tensorflow/core/common_runtime/gpu/gpu_device.cc:1720] Found device 0 with properties: \n",
      "pciBusID: 0000:01:00.0 name: NVIDIA GeForce RTX 2070 with Max-Q Design computeCapability: 7.5\n",
      "coreClock: 1.185GHz coreCount: 36 deviceMemorySize: 7.79GiB deviceMemoryBandwidth: 357.69GiB/s\n",
      "2021-12-31 20:25:08.237231: I tensorflow/stream_executor/platform/default/dso_loader.cc:49] Successfully opened dynamic library libcudart.so.10.1\n",
      "2021-12-31 20:25:08.237249: I tensorflow/stream_executor/platform/default/dso_loader.cc:49] Successfully opened dynamic library libcublas.so.10\n",
      "2021-12-31 20:25:08.237260: I tensorflow/stream_executor/platform/default/dso_loader.cc:49] Successfully opened dynamic library libcublasLt.so.10\n",
      "2021-12-31 20:25:08.237269: I tensorflow/stream_executor/platform/default/dso_loader.cc:49] Successfully opened dynamic library libcufft.so.10\n",
      "2021-12-31 20:25:08.237279: I tensorflow/stream_executor/platform/default/dso_loader.cc:49] Successfully opened dynamic library libcurand.so.10\n",
      "2021-12-31 20:25:08.237289: I tensorflow/stream_executor/platform/default/dso_loader.cc:49] Successfully opened dynamic library libcusolver.so.10\n",
      "2021-12-31 20:25:08.237298: I tensorflow/stream_executor/platform/default/dso_loader.cc:49] Successfully opened dynamic library libcusparse.so.10\n",
      "2021-12-31 20:25:08.237308: I tensorflow/stream_executor/platform/default/dso_loader.cc:49] Successfully opened dynamic library libcudnn.so.7\n",
      "2021-12-31 20:25:08.237366: I tensorflow/stream_executor/cuda/cuda_gpu_executor.cc:941] successful NUMA node read from SysFS had negative value (-1), but there must be at least one NUMA node, so returning NUMA node zero\n",
      "2021-12-31 20:25:08.237711: I tensorflow/stream_executor/cuda/cuda_gpu_executor.cc:941] successful NUMA node read from SysFS had negative value (-1), but there must be at least one NUMA node, so returning NUMA node zero\n",
      "2021-12-31 20:25:08.238005: I tensorflow/core/common_runtime/gpu/gpu_device.cc:1862] Adding visible gpu devices: 0\n",
      "2021-12-31 20:25:08.238025: I tensorflow/core/common_runtime/gpu/gpu_device.cc:1261] Device interconnect StreamExecutor with strength 1 edge matrix:\n",
      "2021-12-31 20:25:08.238030: I tensorflow/core/common_runtime/gpu/gpu_device.cc:1267]      0 \n",
      "2021-12-31 20:25:08.238033: I tensorflow/core/common_runtime/gpu/gpu_device.cc:1280] 0:   N \n",
      "2021-12-31 20:25:08.238101: I tensorflow/stream_executor/cuda/cuda_gpu_executor.cc:941] successful NUMA node read from SysFS had negative value (-1), but there must be at least one NUMA node, so returning NUMA node zero\n",
      "2021-12-31 20:25:08.238436: I tensorflow/stream_executor/cuda/cuda_gpu_executor.cc:941] successful NUMA node read from SysFS had negative value (-1), but there must be at least one NUMA node, so returning NUMA node zero\n",
      "2021-12-31 20:25:08.238738: I tensorflow/core/common_runtime/gpu/gpu_device.cc:1406] Created TensorFlow device (/device:GPU:0 with 6391 MB memory) -> physical GPU (device: 0, name: NVIDIA GeForce RTX 2070 with Max-Q Design, pci bus id: 0000:01:00.0, compute capability: 7.5)\n"
     ]
    }
   ],
   "source": [
    "import tensorflow as tf\n",
    "import tensorflow.keras.backend as K\n",
    "K.clear_session()\n",
    "# tf.debugging.set_log_device_placement(True)\n",
    "\n",
    "print(\"Here: \")\n",
    "print(tf.test.is_built_with_cuda())\n",
    "print()\n",
    "\n",
    "if tf.test.gpu_device_name():\n",
    "    print(\"#############################################################\")\n",
    "    print('Default GPU Device: {}'.format(tf.test.gpu_device_name()))\n",
    "    print(\"#############################################################\")\n",
    "else:\n",
    "    print(\"Please install GPU version of TF\")"
   ]
  },
  {
   "cell_type": "code",
   "execution_count": 6,
   "id": "006ebba6",
   "metadata": {},
   "outputs": [
    {
     "name": "stdout",
     "output_type": "stream",
     "text": [
      "Num GPUs Available:  1\n"
     ]
    },
    {
     "name": "stderr",
     "output_type": "stream",
     "text": [
      "2021-12-31 14:49:02.193266: I tensorflow/compiler/jit/xla_cpu_device.cc:41] Not creating XLA devices, tf_xla_enable_xla_devices not set\n",
      "2021-12-31 14:49:02.193419: I tensorflow/stream_executor/cuda/cuda_gpu_executor.cc:941] successful NUMA node read from SysFS had negative value (-1), but there must be at least one NUMA node, so returning NUMA node zero\n",
      "2021-12-31 14:49:02.193806: I tensorflow/core/common_runtime/gpu/gpu_device.cc:1720] Found device 0 with properties: \n",
      "pciBusID: 0000:01:00.0 name: NVIDIA GeForce RTX 2070 with Max-Q Design computeCapability: 7.5\n",
      "coreClock: 1.185GHz coreCount: 36 deviceMemorySize: 7.79GiB deviceMemoryBandwidth: 357.69GiB/s\n",
      "2021-12-31 14:49:02.193843: I tensorflow/stream_executor/platform/default/dso_loader.cc:49] Successfully opened dynamic library libcudart.so.10.1\n",
      "2021-12-31 14:49:02.193864: I tensorflow/stream_executor/platform/default/dso_loader.cc:49] Successfully opened dynamic library libcublas.so.10\n",
      "2021-12-31 14:49:02.193875: I tensorflow/stream_executor/platform/default/dso_loader.cc:49] Successfully opened dynamic library libcublasLt.so.10\n",
      "2021-12-31 14:49:02.193886: I tensorflow/stream_executor/platform/default/dso_loader.cc:49] Successfully opened dynamic library libcufft.so.10\n",
      "2021-12-31 14:49:02.193897: I tensorflow/stream_executor/platform/default/dso_loader.cc:49] Successfully opened dynamic library libcurand.so.10\n",
      "2021-12-31 14:49:02.193909: I tensorflow/stream_executor/platform/default/dso_loader.cc:49] Successfully opened dynamic library libcusolver.so.10\n",
      "2021-12-31 14:49:02.193920: I tensorflow/stream_executor/platform/default/dso_loader.cc:49] Successfully opened dynamic library libcusparse.so.10\n",
      "2021-12-31 14:49:02.193931: I tensorflow/stream_executor/platform/default/dso_loader.cc:49] Successfully opened dynamic library libcudnn.so.7\n",
      "2021-12-31 14:49:02.193990: I tensorflow/stream_executor/cuda/cuda_gpu_executor.cc:941] successful NUMA node read from SysFS had negative value (-1), but there must be at least one NUMA node, so returning NUMA node zero\n",
      "2021-12-31 14:49:02.194339: I tensorflow/stream_executor/cuda/cuda_gpu_executor.cc:941] successful NUMA node read from SysFS had negative value (-1), but there must be at least one NUMA node, so returning NUMA node zero\n",
      "2021-12-31 14:49:02.194651: I tensorflow/core/common_runtime/gpu/gpu_device.cc:1862] Adding visible gpu devices: 0\n"
     ]
    }
   ],
   "source": [
    "print(\"Num GPUs Available: \", len(tf.config.list_physical_devices('GPU')))"
   ]
  },
  {
   "cell_type": "code",
   "execution_count": 7,
   "id": "1e24fbaf",
   "metadata": {},
   "outputs": [
    {
     "name": "stderr",
     "output_type": "stream",
     "text": [
      "2021-12-31 14:49:03.132560: I tensorflow/compiler/jit/xla_gpu_device.cc:99] Not creating XLA devices, tf_xla_enable_xla_devices not set\n",
      "2021-12-31 14:49:03.132689: I tensorflow/stream_executor/cuda/cuda_gpu_executor.cc:941] successful NUMA node read from SysFS had negative value (-1), but there must be at least one NUMA node, so returning NUMA node zero\n",
      "2021-12-31 14:49:03.133042: I tensorflow/core/common_runtime/gpu/gpu_device.cc:1720] Found device 0 with properties: \n",
      "pciBusID: 0000:01:00.0 name: NVIDIA GeForce RTX 2070 with Max-Q Design computeCapability: 7.5\n",
      "coreClock: 1.185GHz coreCount: 36 deviceMemorySize: 7.79GiB deviceMemoryBandwidth: 357.69GiB/s\n",
      "2021-12-31 14:49:03.133076: I tensorflow/stream_executor/platform/default/dso_loader.cc:49] Successfully opened dynamic library libcudart.so.10.1\n",
      "2021-12-31 14:49:03.133095: I tensorflow/stream_executor/platform/default/dso_loader.cc:49] Successfully opened dynamic library libcublas.so.10\n",
      "2021-12-31 14:49:03.133106: I tensorflow/stream_executor/platform/default/dso_loader.cc:49] Successfully opened dynamic library libcublasLt.so.10\n",
      "2021-12-31 14:49:03.133117: I tensorflow/stream_executor/platform/default/dso_loader.cc:49] Successfully opened dynamic library libcufft.so.10\n",
      "2021-12-31 14:49:03.133128: I tensorflow/stream_executor/platform/default/dso_loader.cc:49] Successfully opened dynamic library libcurand.so.10\n",
      "2021-12-31 14:49:03.133139: I tensorflow/stream_executor/platform/default/dso_loader.cc:49] Successfully opened dynamic library libcusolver.so.10\n",
      "2021-12-31 14:49:03.133151: I tensorflow/stream_executor/platform/default/dso_loader.cc:49] Successfully opened dynamic library libcusparse.so.10\n",
      "2021-12-31 14:49:03.133162: I tensorflow/stream_executor/platform/default/dso_loader.cc:49] Successfully opened dynamic library libcudnn.so.7\n",
      "2021-12-31 14:49:03.133216: I tensorflow/stream_executor/cuda/cuda_gpu_executor.cc:941] successful NUMA node read from SysFS had negative value (-1), but there must be at least one NUMA node, so returning NUMA node zero\n",
      "2021-12-31 14:49:03.133550: I tensorflow/stream_executor/cuda/cuda_gpu_executor.cc:941] successful NUMA node read from SysFS had negative value (-1), but there must be at least one NUMA node, so returning NUMA node zero\n",
      "2021-12-31 14:49:03.133847: I tensorflow/core/common_runtime/gpu/gpu_device.cc:1862] Adding visible gpu devices: 0\n",
      "2021-12-31 14:49:03.133868: I tensorflow/core/common_runtime/gpu/gpu_device.cc:1261] Device interconnect StreamExecutor with strength 1 edge matrix:\n",
      "2021-12-31 14:49:03.133872: I tensorflow/core/common_runtime/gpu/gpu_device.cc:1267]      0 \n",
      "2021-12-31 14:49:03.133876: I tensorflow/core/common_runtime/gpu/gpu_device.cc:1280] 0:   N \n",
      "2021-12-31 14:49:03.134037: I tensorflow/stream_executor/cuda/cuda_gpu_executor.cc:941] successful NUMA node read from SysFS had negative value (-1), but there must be at least one NUMA node, so returning NUMA node zero\n",
      "2021-12-31 14:49:03.134381: I tensorflow/stream_executor/cuda/cuda_gpu_executor.cc:941] successful NUMA node read from SysFS had negative value (-1), but there must be at least one NUMA node, so returning NUMA node zero\n",
      "2021-12-31 14:49:03.134746: I tensorflow/core/common_runtime/gpu/gpu_device.cc:1406] Created TensorFlow device (/job:localhost/replica:0/task:0/device:GPU:0 with 6286 MB memory) -> physical GPU (device: 0, name: NVIDIA GeForce RTX 2070 with Max-Q Design, pci bus id: 0000:01:00.0, compute capability: 7.5)\n"
     ]
    }
   ],
   "source": [
    "from tensorflow.compat.v1 import ConfigProto\n",
    "from tensorflow.compat.v1 import InteractiveSession\n",
    "\n",
    "config = ConfigProto()\n",
    "config.gpu_options.allow_growth = True\n",
    "session = InteractiveSession(config=config)"
   ]
  },
  {
   "cell_type": "code",
   "execution_count": 8,
   "id": "0da4db27",
   "metadata": {},
   "outputs": [],
   "source": [
    "# physical_devices = tf.config.list_physical_devices('GPU')\n",
    "# tf.config.experimental.set_memory_growth(physical_devices[0], True)"
   ]
  },
  {
   "cell_type": "markdown",
   "id": "1f155606",
   "metadata": {},
   "source": [
    "# Preprocessing"
   ]
  },
  {
   "cell_type": "code",
   "execution_count": 6,
   "id": "be5af05a",
   "metadata": {
    "ExecuteTime": {
     "end_time": "2021-11-13T04:54:44.933189Z",
     "start_time": "2021-11-13T04:54:44.923852Z"
    }
   },
   "outputs": [],
   "source": [
    "import pandas as pd\n",
    "import numpy as np\n",
    "import matplotlib.pyplot as plt\n",
    "\n",
    "import tensorflow as tf\n",
    "from tensorflow.keras.preprocessing.image import ImageDataGenerator\n",
    "\n",
    "from tensorflow.keras.models import Sequential\n",
    "from tensorflow.keras.layers import Conv2D, MaxPool2D, Flatten, Dense\n",
    "\n",
    "from tensorflow.keras.optimizers import Adagrad, Adadelta, RMSprop, Adam, Adamax"
   ]
  },
  {
   "cell_type": "code",
   "execution_count": 10,
   "id": "3271f250",
   "metadata": {
    "ExecuteTime": {
     "end_time": "2021-11-13T04:54:45.110770Z",
     "start_time": "2021-11-13T04:54:45.101109Z"
    }
   },
   "outputs": [
    {
     "data": {
      "text/plain": [
       "'2.4.1'"
      ]
     },
     "execution_count": 10,
     "metadata": {},
     "output_type": "execute_result"
    }
   ],
   "source": [
    "tf.__version__"
   ]
  },
  {
   "cell_type": "markdown",
   "id": "bbbfa039",
   "metadata": {},
   "source": [
    "## Splitting the images"
   ]
  },
  {
   "cell_type": "code",
   "execution_count": 11,
   "id": "b75a45d3",
   "metadata": {},
   "outputs": [
    {
     "name": "stdout",
     "output_type": "stream",
     "text": [
      "Collecting directory_structure\n",
      "  Using cached directory_structure-1.1.2-py3-none-any.whl (4.3 kB)\n",
      "Collecting emoji\n",
      "  Using cached emoji-1.6.1-py3-none-any.whl\n",
      "Installing collected packages: emoji, directory-structure\n",
      "Successfully installed directory-structure-1.1.2 emoji-1.6.1\n"
     ]
    }
   ],
   "source": [
    "!pip install directory_structure"
   ]
  },
  {
   "cell_type": "code",
   "execution_count": 12,
   "id": "5bc6f7ff",
   "metadata": {},
   "outputs": [
    {
     "name": "stdout",
     "output_type": "stream",
     "text": [
      "📂 train\n",
      "|_📁 cat\n",
      "|_📁 dog\n",
      "📂 val\n",
      "|_📁 cat\n",
      "|_📁 dog\n",
      "📂 test\n",
      "|_📁 cat\n",
      "|_📁 dog\n"
     ]
    }
   ],
   "source": [
    "from directory_structure import Tree\n",
    "\n",
    "print(Tree(\"./dataset/train/\"))\n",
    "print(Tree(\"./dataset/val/\"))\n",
    "print(Tree(\"./dataset/test/\"))"
   ]
  },
  {
   "cell_type": "markdown",
   "id": "f93ded19",
   "metadata": {},
   "source": [
    "We apply transformation on the training set images in order to avoid overfitting. The transformation includes geomatrical transformation, rotating, zoom in/ ou, and etc and it is called \"image augmentation\", which applies to the training set in order to avoid the CNN model to overfitting."
   ]
  },
  {
   "cell_type": "markdown",
   "id": "5d050141",
   "metadata": {},
   "source": [
    "### Training Set"
   ]
  },
  {
   "cell_type": "code",
   "execution_count": 13,
   "id": "e1bdfd73",
   "metadata": {
    "ExecuteTime": {
     "end_time": "2021-11-13T04:54:45.807375Z",
     "start_time": "2021-11-13T04:54:45.801685Z"
    }
   },
   "outputs": [],
   "source": [
    "train_datagen = ImageDataGenerator(\n",
    "    rescale=1./255,\n",
    "    shear_range=0.2,\n",
    "    zoom_range=0.2,\n",
    "    horizontal_flip=True)\n",
    "\n",
    "\n",
    "# rescale - the transformation of the pixel val by 255 to have range 0 - 1. Similar to normalization."
   ]
  },
  {
   "cell_type": "code",
   "execution_count": 14,
   "id": "64e3a836",
   "metadata": {
    "ExecuteTime": {
     "end_time": "2021-11-13T04:54:46.140647Z",
     "start_time": "2021-11-13T04:54:45.969707Z"
    }
   },
   "outputs": [
    {
     "name": "stdout",
     "output_type": "stream",
     "text": [
      "Found 16000 images belonging to 2 classes.\n"
     ]
    }
   ],
   "source": [
    "train_set = train_datagen.flow_from_directory(\n",
    "    './dataset/train/',\n",
    "    target_size=(64, 64),\n",
    "    batch_size=32,\n",
    "    class_mode='binary')\n",
    "\n",
    "\n",
    "# target_size - image size that we gonna fit into the CNN model.\n",
    "#bat_size - the # of image that we want per each batch, default is 32.\n",
    "#class_mode - the outcome that we expect to have."
   ]
  },
  {
   "cell_type": "markdown",
   "id": "67023053",
   "metadata": {},
   "source": [
    "### Val set"
   ]
  },
  {
   "cell_type": "code",
   "execution_count": 15,
   "id": "26eb829b",
   "metadata": {
    "ExecuteTime": {
     "end_time": "2021-12-30T19:12:00.847573Z",
     "start_time": "2021-12-30T19:12:00.803102Z"
    }
   },
   "outputs": [],
   "source": [
    "val_datagen = ImageDataGenerator(rescale=1./255)"
   ]
  },
  {
   "cell_type": "code",
   "execution_count": 16,
   "id": "4ef46c72",
   "metadata": {},
   "outputs": [
    {
     "name": "stdout",
     "output_type": "stream",
     "text": [
      "Found 4000 images belonging to 2 classes.\n"
     ]
    }
   ],
   "source": [
    "val_set = val_datagen.flow_from_directory(\n",
    "    './dataset/val/',\n",
    "    target_size=(64, 64),\n",
    "    batch_size=32,\n",
    "    class_mode='binary')"
   ]
  },
  {
   "cell_type": "markdown",
   "id": "fcd04600",
   "metadata": {},
   "source": [
    "### Test Set"
   ]
  },
  {
   "cell_type": "code",
   "execution_count": 17,
   "id": "ee77c326",
   "metadata": {
    "ExecuteTime": {
     "end_time": "2021-11-13T04:54:46.312168Z",
     "start_time": "2021-11-13T04:54:46.306087Z"
    }
   },
   "outputs": [],
   "source": [
    "test_datagen = ImageDataGenerator(rescale=1./255)\n",
    "# this will act like transformation that we have with the feature scaling where we only apply transformation on the test set. \n",
    "# However, with the image data, we apply rescale to the test set."
   ]
  },
  {
   "cell_type": "code",
   "execution_count": 18,
   "id": "37f0b2a7",
   "metadata": {
    "ExecuteTime": {
     "end_time": "2021-11-13T04:54:46.504960Z",
     "start_time": "2021-11-13T04:54:46.459871Z"
    }
   },
   "outputs": [
    {
     "name": "stdout",
     "output_type": "stream",
     "text": [
      "Found 5000 images belonging to 2 classes.\n"
     ]
    }
   ],
   "source": [
    "test_set = test_datagen.flow_from_directory(\n",
    "    './dataset/test/',\n",
    "    target_size=(64, 64),\n",
    "    batch_size=32,\n",
    "    class_mode='binary')"
   ]
  },
  {
   "cell_type": "markdown",
   "id": "0a373745",
   "metadata": {},
   "source": [
    "# The CNN model"
   ]
  },
  {
   "cell_type": "markdown",
   "id": "f0009b12",
   "metadata": {},
   "source": [
    "## The model"
   ]
  },
  {
   "cell_type": "markdown",
   "id": "14f7eee2",
   "metadata": {},
   "source": [
    "1) Convolution Layer:\n",
    "\n",
    "* filters - the feature detector/ filter\n",
    "* kernel_size - the size of the feature detector/ filter matrix\n",
    "* input_shape - the image size that we gonna have. Since we resize it to (64, 64) and then 3 as we are working on color image. If we have black/ white image, we would have 1.\n",
    "\n",
    "2) MaxPooling:\n",
    "\n",
    "* pool_size - the frame that select/ workthrough the feature map\n",
    "* strides - the # of shift of the frame on the feature map\n",
    "* padding - if the stride out of matric range, we can ignore it with \"valid\" parameter val\n",
    "\n",
    "3) Second Convolution Layer\n",
    "4) Second MaxPooling\n",
    "5) Flatterning\n",
    "6) Fully Connected Layer\n",
    "7) Output Layer"
   ]
  },
  {
   "cell_type": "code",
   "execution_count": 7,
   "id": "b1b25b1c",
   "metadata": {},
   "outputs": [
    {
     "name": "stderr",
     "output_type": "stream",
     "text": [
      "2021-12-31 20:25:51.165740: I tensorflow/compiler/jit/xla_gpu_device.cc:99] Not creating XLA devices, tf_xla_enable_xla_devices not set\n",
      "2021-12-31 20:25:51.165897: I tensorflow/stream_executor/cuda/cuda_gpu_executor.cc:941] successful NUMA node read from SysFS had negative value (-1), but there must be at least one NUMA node, so returning NUMA node zero\n",
      "2021-12-31 20:25:51.166263: I tensorflow/core/common_runtime/gpu/gpu_device.cc:1720] Found device 0 with properties: \n",
      "pciBusID: 0000:01:00.0 name: NVIDIA GeForce RTX 2070 with Max-Q Design computeCapability: 7.5\n",
      "coreClock: 1.185GHz coreCount: 36 deviceMemorySize: 7.79GiB deviceMemoryBandwidth: 357.69GiB/s\n",
      "2021-12-31 20:25:51.166293: I tensorflow/stream_executor/platform/default/dso_loader.cc:49] Successfully opened dynamic library libcudart.so.10.1\n",
      "2021-12-31 20:25:51.166309: I tensorflow/stream_executor/platform/default/dso_loader.cc:49] Successfully opened dynamic library libcublas.so.10\n",
      "2021-12-31 20:25:51.166319: I tensorflow/stream_executor/platform/default/dso_loader.cc:49] Successfully opened dynamic library libcublasLt.so.10\n",
      "2021-12-31 20:25:51.166329: I tensorflow/stream_executor/platform/default/dso_loader.cc:49] Successfully opened dynamic library libcufft.so.10\n",
      "2021-12-31 20:25:51.166340: I tensorflow/stream_executor/platform/default/dso_loader.cc:49] Successfully opened dynamic library libcurand.so.10\n",
      "2021-12-31 20:25:51.166350: I tensorflow/stream_executor/platform/default/dso_loader.cc:49] Successfully opened dynamic library libcusolver.so.10\n",
      "2021-12-31 20:25:51.166360: I tensorflow/stream_executor/platform/default/dso_loader.cc:49] Successfully opened dynamic library libcusparse.so.10\n",
      "2021-12-31 20:25:51.166370: I tensorflow/stream_executor/platform/default/dso_loader.cc:49] Successfully opened dynamic library libcudnn.so.7\n",
      "2021-12-31 20:25:51.166417: I tensorflow/stream_executor/cuda/cuda_gpu_executor.cc:941] successful NUMA node read from SysFS had negative value (-1), but there must be at least one NUMA node, so returning NUMA node zero\n",
      "2021-12-31 20:25:51.167553: I tensorflow/stream_executor/cuda/cuda_gpu_executor.cc:941] successful NUMA node read from SysFS had negative value (-1), but there must be at least one NUMA node, so returning NUMA node zero\n",
      "2021-12-31 20:25:51.167835: I tensorflow/core/common_runtime/gpu/gpu_device.cc:1862] Adding visible gpu devices: 0\n",
      "2021-12-31 20:25:51.167856: I tensorflow/core/common_runtime/gpu/gpu_device.cc:1261] Device interconnect StreamExecutor with strength 1 edge matrix:\n",
      "2021-12-31 20:25:51.167862: I tensorflow/core/common_runtime/gpu/gpu_device.cc:1267]      0 \n",
      "2021-12-31 20:25:51.167865: I tensorflow/core/common_runtime/gpu/gpu_device.cc:1280] 0:   N \n",
      "2021-12-31 20:25:51.167943: I tensorflow/stream_executor/cuda/cuda_gpu_executor.cc:941] successful NUMA node read from SysFS had negative value (-1), but there must be at least one NUMA node, so returning NUMA node zero\n",
      "2021-12-31 20:25:51.168312: I tensorflow/stream_executor/cuda/cuda_gpu_executor.cc:941] successful NUMA node read from SysFS had negative value (-1), but there must be at least one NUMA node, so returning NUMA node zero\n",
      "2021-12-31 20:25:51.168642: I tensorflow/core/common_runtime/gpu/gpu_device.cc:1406] Created TensorFlow device (/job:localhost/replica:0/task:0/device:GPU:0 with 6391 MB memory) -> physical GPU (device: 0, name: NVIDIA GeForce RTX 2070 with Max-Q Design, pci bus id: 0000:01:00.0, compute capability: 7.5)\n"
     ]
    }
   ],
   "source": [
    "cnn = Sequential([\n",
    "        Conv2D(filters=32, kernel_size=3, activation=\"relu\", input_shape=[64, 64, 3]),\n",
    "        MaxPool2D(pool_size=2, strides=2, padding=\"valid\"),\n",
    "        Conv2D(filters=32, kernel_size=3, activation=\"relu\"),\n",
    "        MaxPool2D(pool_size=2, strides=2, padding=\"valid\"),\n",
    "        Flatten(),\n",
    "        Dense(units=128, activation=\"relu\"),\n",
    "        Dense(units=1, activation=\"sigmoid\"),\n",
    "    ])"
   ]
  },
  {
   "cell_type": "code",
   "execution_count": 8,
   "metadata": {},
   "outputs": [
    {
     "name": "stdout",
     "output_type": "stream",
     "text": [
      "Model: \"sequential\"\n",
      "_________________________________________________________________\n",
      "Layer (type)                 Output Shape              Param #   \n",
      "=================================================================\n",
      "conv2d (Conv2D)              (None, 62, 62, 32)        896       \n",
      "_________________________________________________________________\n",
      "max_pooling2d (MaxPooling2D) (None, 31, 31, 32)        0         \n",
      "_________________________________________________________________\n",
      "conv2d_1 (Conv2D)            (None, 29, 29, 32)        9248      \n",
      "_________________________________________________________________\n",
      "max_pooling2d_1 (MaxPooling2 (None, 14, 14, 32)        0         \n",
      "_________________________________________________________________\n",
      "flatten (Flatten)            (None, 6272)              0         \n",
      "_________________________________________________________________\n",
      "dense (Dense)                (None, 128)               802944    \n",
      "_________________________________________________________________\n",
      "dense_1 (Dense)              (None, 1)                 129       \n",
      "=================================================================\n",
      "Total params: 813,217\n",
      "Trainable params: 813,217\n",
      "Non-trainable params: 0\n",
      "_________________________________________________________________\n"
     ]
    }
   ],
   "source": [
    "cnn.summary()"
   ]
  },
  {
   "cell_type": "code",
   "execution_count": 19,
   "id": "c35670d8",
   "metadata": {
    "ExecuteTime": {
     "end_time": "2021-11-13T04:54:46.950032Z",
     "start_time": "2021-11-13T04:54:46.943285Z"
    }
   },
   "outputs": [],
   "source": [
    "def CNN_model(optimizer, loss_fun, metrics_list):\n",
    "    cnn = Sequential([\n",
    "        Conv2D(filters=32, kernel_size=3, activation=\"relu\", input_shape=[64, 64, 3]),\n",
    "        MaxPool2D(pool_size=2, strides=2, padding=\"valid\"),\n",
    "        Conv2D(filters=32, kernel_size=3, activation=\"relu\"),\n",
    "        MaxPool2D(pool_size=2, strides=2, padding=\"valid\"),\n",
    "        Flatten(),\n",
    "        Dense(units=128, activation=\"relu\"),\n",
    "        Dense(units=1, activation=\"sigmoid\"),\n",
    "    ])\n",
    "\n",
    "    cnn.compile(optimizer=optimizer, loss=loss_fun, metrics=metrics_list)\n",
    "    \n",
    "    return cnn"
   ]
  },
  {
   "cell_type": "code",
   "execution_count": 20,
   "id": "447cad26",
   "metadata": {},
   "outputs": [],
   "source": [
    "# cnn.summary()"
   ]
  },
  {
   "cell_type": "markdown",
   "id": "deba29af",
   "metadata": {},
   "source": [
    "# Training the CNN"
   ]
  },
  {
   "cell_type": "markdown",
   "id": "16803680",
   "metadata": {},
   "source": [
    "## Train the CNN on the training set and evaluating the test set"
   ]
  },
  {
   "cell_type": "markdown",
   "id": "638464c7",
   "metadata": {},
   "source": [
    "Setup the optimizers along with the hyperparameters."
   ]
  },
  {
   "cell_type": "code",
   "execution_count": 21,
   "id": "8a7f5d08",
   "metadata": {},
   "outputs": [],
   "source": [
    "optimizer_list = [\n",
    "    {\"name\": \"Adagrad\", \"model\": Adagrad(learning_rate=0.001, initial_accumulator_value=0.1, name=\"Adagrad\")}, \n",
    "    {\"name\": \"Adadelta\", \"model\": Adadelta(learning_rate=0.001, rho=0.95, name='Adadelta')},\n",
    "    {\"name\": \"RMSprop\", \"model\": RMSprop(learning_rate=0.001, rho=0.9, momentum=0.0, name='RMSprop')},\n",
    "    {\"name\": \"Adam\", \"model\": Adam(learning_rate=0.001, beta_1=0.9, beta_2=0.999, name='Adam')},\n",
    "    {\"name\": \"Adamax\", \"model\": Adamax(learning_rate=0.001, beta_1=0.9, beta_2=0.999, name='Adamax')},\n",
    "]"
   ]
  },
  {
   "cell_type": "code",
   "execution_count": 22,
   "id": "c778a914",
   "metadata": {},
   "outputs": [],
   "source": [
    "optimizer_model_fit = []"
   ]
  },
  {
   "cell_type": "code",
   "execution_count": 23,
   "id": "9890090e",
   "metadata": {},
   "outputs": [
    {
     "name": "stderr",
     "output_type": "stream",
     "text": [
      "2021-12-31 14:49:58.458666: I tensorflow/compiler/jit/xla_gpu_device.cc:99] Not creating XLA devices, tf_xla_enable_xla_devices not set\n",
      "2021-12-31 14:49:58.458845: I tensorflow/stream_executor/cuda/cuda_gpu_executor.cc:941] successful NUMA node read from SysFS had negative value (-1), but there must be at least one NUMA node, so returning NUMA node zero\n",
      "2021-12-31 14:49:58.459195: I tensorflow/core/common_runtime/gpu/gpu_device.cc:1720] Found device 0 with properties: \n",
      "pciBusID: 0000:01:00.0 name: NVIDIA GeForce RTX 2070 with Max-Q Design computeCapability: 7.5\n",
      "coreClock: 1.185GHz coreCount: 36 deviceMemorySize: 7.79GiB deviceMemoryBandwidth: 357.69GiB/s\n",
      "2021-12-31 14:49:58.459236: I tensorflow/stream_executor/platform/default/dso_loader.cc:49] Successfully opened dynamic library libcudart.so.10.1\n",
      "2021-12-31 14:49:58.459259: I tensorflow/stream_executor/platform/default/dso_loader.cc:49] Successfully opened dynamic library libcublas.so.10\n",
      "2021-12-31 14:49:58.459271: I tensorflow/stream_executor/platform/default/dso_loader.cc:49] Successfully opened dynamic library libcublasLt.so.10\n",
      "2021-12-31 14:49:58.459283: I tensorflow/stream_executor/platform/default/dso_loader.cc:49] Successfully opened dynamic library libcufft.so.10\n",
      "2021-12-31 14:49:58.459295: I tensorflow/stream_executor/platform/default/dso_loader.cc:49] Successfully opened dynamic library libcurand.so.10\n",
      "2021-12-31 14:49:58.459307: I tensorflow/stream_executor/platform/default/dso_loader.cc:49] Successfully opened dynamic library libcusolver.so.10\n",
      "2021-12-31 14:49:58.459319: I tensorflow/stream_executor/platform/default/dso_loader.cc:49] Successfully opened dynamic library libcusparse.so.10\n",
      "2021-12-31 14:49:58.459332: I tensorflow/stream_executor/platform/default/dso_loader.cc:49] Successfully opened dynamic library libcudnn.so.7\n",
      "2021-12-31 14:49:58.459396: I tensorflow/stream_executor/cuda/cuda_gpu_executor.cc:941] successful NUMA node read from SysFS had negative value (-1), but there must be at least one NUMA node, so returning NUMA node zero\n",
      "2021-12-31 14:49:58.459721: I tensorflow/stream_executor/cuda/cuda_gpu_executor.cc:941] successful NUMA node read from SysFS had negative value (-1), but there must be at least one NUMA node, so returning NUMA node zero\n",
      "2021-12-31 14:49:58.460012: I tensorflow/core/common_runtime/gpu/gpu_device.cc:1862] Adding visible gpu devices: 0\n",
      "2021-12-31 14:49:58.460041: I tensorflow/core/common_runtime/gpu/gpu_device.cc:1261] Device interconnect StreamExecutor with strength 1 edge matrix:\n",
      "2021-12-31 14:49:58.460046: I tensorflow/core/common_runtime/gpu/gpu_device.cc:1267]      0 \n",
      "2021-12-31 14:49:58.460050: I tensorflow/core/common_runtime/gpu/gpu_device.cc:1280] 0:   N \n",
      "2021-12-31 14:49:58.460131: I tensorflow/stream_executor/cuda/cuda_gpu_executor.cc:941] successful NUMA node read from SysFS had negative value (-1), but there must be at least one NUMA node, so returning NUMA node zero\n",
      "2021-12-31 14:49:58.460473: I tensorflow/stream_executor/cuda/cuda_gpu_executor.cc:941] successful NUMA node read from SysFS had negative value (-1), but there must be at least one NUMA node, so returning NUMA node zero\n",
      "2021-12-31 14:49:58.460881: I tensorflow/core/common_runtime/gpu/gpu_device.cc:1406] Created TensorFlow device (/job:localhost/replica:0/task:0/device:GPU:0 with 6286 MB memory) -> physical GPU (device: 0, name: NVIDIA GeForce RTX 2070 with Max-Q Design, pci bus id: 0000:01:00.0, compute capability: 7.5)\n"
     ]
    }
   ],
   "source": [
    "for optimizer in optimizer_list:\n",
    "    optimizer_model_fit.append({\n",
    "        \"name\": optimizer[\"name\"],\n",
    "        \"fit_model\": CNN_model(optimizer[\"model\"], \"binary_crossentropy\", [\"accuracy\"]),\n",
    "    })"
   ]
  },
  {
   "cell_type": "code",
   "execution_count": 24,
   "id": "09ea52b7",
   "metadata": {},
   "outputs": [],
   "source": [
    "# cnn.compile(optimizer=Adagrad(learning_rate=0.01), loss=\"binary_crossentropy\", metrics=[\"accuracy\"])\n",
    "# cnn.fit(x=train_set, validation_data=val_set, epochs=25)"
   ]
  },
  {
   "cell_type": "markdown",
   "id": "ac7b46a0",
   "metadata": {},
   "source": [
    "Training for each optimizers."
   ]
  },
  {
   "cell_type": "code",
   "execution_count": 25,
   "id": "1445b49f",
   "metadata": {},
   "outputs": [],
   "source": [
    "optimizer_model_trained = []"
   ]
  },
  {
   "cell_type": "code",
   "execution_count": 26,
   "id": "3af60000",
   "metadata": {
    "scrolled": false
   },
   "outputs": [
    {
     "name": "stderr",
     "output_type": "stream",
     "text": [
      "2021-12-31 14:50:13.436247: I tensorflow/compiler/mlir/mlir_graph_optimization_pass.cc:116] None of the MLIR optimization passes are enabled (registered 2)\n",
      "2021-12-31 14:50:13.456061: I tensorflow/core/platform/profile_utils/cpu_utils.cc:112] CPU Frequency: 2199995000 Hz\n"
     ]
    },
    {
     "name": "stdout",
     "output_type": "stream",
     "text": [
      "Epoch 1/25\n"
     ]
    },
    {
     "name": "stderr",
     "output_type": "stream",
     "text": [
      "2021-12-31 14:50:13.866074: I tensorflow/stream_executor/platform/default/dso_loader.cc:49] Successfully opened dynamic library libcublas.so.10\n",
      "2021-12-31 14:50:14.200243: I tensorflow/stream_executor/platform/default/dso_loader.cc:49] Successfully opened dynamic library libcudnn.so.7\n",
      "2021-12-31 14:50:15.447615: W tensorflow/stream_executor/gpu/asm_compiler.cc:63] Running ptxas --version returned 256\n",
      "2021-12-31 14:50:15.496455: W tensorflow/stream_executor/gpu/redzone_allocator.cc:314] Internal: ptxas exited with non-zero error code 256, output: \n",
      "Relying on driver to perform ptx compilation. \n",
      "Modify $PATH to customize ptxas location.\n",
      "This message will be only logged once.\n"
     ]
    },
    {
     "name": "stdout",
     "output_type": "stream",
     "text": [
      "500/500 [==============================] - 71s 133ms/step - loss: 0.6923 - accuracy: 0.5173 - val_loss: 0.6871 - val_accuracy: 0.5788\n",
      "Epoch 2/25\n",
      "500/500 [==============================] - 64s 128ms/step - loss: 0.6872 - accuracy: 0.5628 - val_loss: 0.6821 - val_accuracy: 0.5940\n",
      "Epoch 3/25\n",
      "500/500 [==============================] - 63s 127ms/step - loss: 0.6822 - accuracy: 0.5810 - val_loss: 0.6770 - val_accuracy: 0.5822\n",
      "Epoch 4/25\n",
      "500/500 [==============================] - 64s 127ms/step - loss: 0.6752 - accuracy: 0.5927 - val_loss: 0.6674 - val_accuracy: 0.6140\n",
      "Epoch 5/25\n",
      "500/500 [==============================] - 64s 128ms/step - loss: 0.6689 - accuracy: 0.6048 - val_loss: 0.6589 - val_accuracy: 0.6302\n",
      "Epoch 6/25\n",
      "500/500 [==============================] - 64s 128ms/step - loss: 0.6637 - accuracy: 0.6124 - val_loss: 0.6504 - val_accuracy: 0.6310\n",
      "Epoch 7/25\n",
      "500/500 [==============================] - 63s 126ms/step - loss: 0.6540 - accuracy: 0.6228 - val_loss: 0.6439 - val_accuracy: 0.6330\n",
      "Epoch 8/25\n",
      "500/500 [==============================] - 64s 127ms/step - loss: 0.6480 - accuracy: 0.6250 - val_loss: 0.6389 - val_accuracy: 0.6342\n",
      "Epoch 9/25\n",
      "500/500 [==============================] - 64s 127ms/step - loss: 0.6441 - accuracy: 0.6342 - val_loss: 0.6592 - val_accuracy: 0.6033\n",
      "Epoch 10/25\n",
      "500/500 [==============================] - 62s 125ms/step - loss: 0.6420 - accuracy: 0.6287 - val_loss: 0.6428 - val_accuracy: 0.6270\n",
      "Epoch 11/25\n",
      "500/500 [==============================] - 62s 125ms/step - loss: 0.6352 - accuracy: 0.6404 - val_loss: 0.6450 - val_accuracy: 0.6258\n",
      "Epoch 12/25\n",
      "500/500 [==============================] - 62s 125ms/step - loss: 0.6322 - accuracy: 0.6449 - val_loss: 0.6247 - val_accuracy: 0.6495\n",
      "Epoch 13/25\n",
      "500/500 [==============================] - 62s 125ms/step - loss: 0.6294 - accuracy: 0.6459 - val_loss: 0.6337 - val_accuracy: 0.6400\n",
      "Epoch 14/25\n",
      "500/500 [==============================] - 62s 124ms/step - loss: 0.6232 - accuracy: 0.6514 - val_loss: 0.6428 - val_accuracy: 0.6298\n",
      "Epoch 15/25\n",
      "500/500 [==============================] - 62s 124ms/step - loss: 0.6262 - accuracy: 0.6427 - val_loss: 0.6422 - val_accuracy: 0.6323\n",
      "Epoch 16/25\n",
      "500/500 [==============================] - 63s 125ms/step - loss: 0.6161 - accuracy: 0.6619 - val_loss: 0.6305 - val_accuracy: 0.6470\n",
      "Epoch 17/25\n",
      "500/500 [==============================] - 62s 124ms/step - loss: 0.6190 - accuracy: 0.6633 - val_loss: 0.6204 - val_accuracy: 0.6572\n",
      "Epoch 18/25\n",
      "500/500 [==============================] - 62s 124ms/step - loss: 0.6123 - accuracy: 0.6573 - val_loss: 0.6711 - val_accuracy: 0.6047\n",
      "Epoch 19/25\n",
      "500/500 [==============================] - 63s 125ms/step - loss: 0.6149 - accuracy: 0.6606 - val_loss: 0.6396 - val_accuracy: 0.6378\n",
      "Epoch 20/25\n",
      "500/500 [==============================] - 63s 125ms/step - loss: 0.6147 - accuracy: 0.6615 - val_loss: 0.6570 - val_accuracy: 0.6220\n",
      "Epoch 21/25\n",
      "500/500 [==============================] - 63s 125ms/step - loss: 0.6140 - accuracy: 0.6598 - val_loss: 0.6260 - val_accuracy: 0.6515\n",
      "Epoch 22/25\n",
      "500/500 [==============================] - 67s 134ms/step - loss: 0.6059 - accuracy: 0.6680 - val_loss: 0.6679 - val_accuracy: 0.6110\n",
      "Epoch 23/25\n",
      "500/500 [==============================] - 64s 128ms/step - loss: 0.6068 - accuracy: 0.6688 - val_loss: 0.6155 - val_accuracy: 0.6630\n",
      "Epoch 24/25\n",
      "500/500 [==============================] - 63s 126ms/step - loss: 0.5994 - accuracy: 0.6768 - val_loss: 0.6221 - val_accuracy: 0.6597\n",
      "Epoch 25/25\n",
      "500/500 [==============================] - 63s 126ms/step - loss: 0.6011 - accuracy: 0.6738 - val_loss: 0.6103 - val_accuracy: 0.6710\n",
      "Epoch 1/25\n",
      "500/500 [==============================] - 64s 128ms/step - loss: 0.6935 - accuracy: 0.5048 - val_loss: 0.6922 - val_accuracy: 0.5242\n",
      "Epoch 2/25\n",
      "500/500 [==============================] - 63s 126ms/step - loss: 0.6919 - accuracy: 0.5242 - val_loss: 0.6906 - val_accuracy: 0.5505\n",
      "Epoch 3/25\n",
      "500/500 [==============================] - 63s 126ms/step - loss: 0.6903 - accuracy: 0.5374 - val_loss: 0.6893 - val_accuracy: 0.5635\n",
      "Epoch 4/25\n",
      "500/500 [==============================] - 65s 130ms/step - loss: 0.6897 - accuracy: 0.5514 - val_loss: 0.6881 - val_accuracy: 0.5655\n",
      "Epoch 5/25\n",
      "500/500 [==============================] - 63s 126ms/step - loss: 0.6886 - accuracy: 0.5564 - val_loss: 0.6870 - val_accuracy: 0.5670\n",
      "Epoch 6/25\n",
      "500/500 [==============================] - 64s 128ms/step - loss: 0.6878 - accuracy: 0.5584 - val_loss: 0.6860 - val_accuracy: 0.5710\n",
      "Epoch 7/25\n",
      "500/500 [==============================] - 64s 128ms/step - loss: 0.6856 - accuracy: 0.5667 - val_loss: 0.6849 - val_accuracy: 0.5830\n",
      "Epoch 8/25\n",
      "500/500 [==============================] - 64s 128ms/step - loss: 0.6851 - accuracy: 0.5761 - val_loss: 0.6839 - val_accuracy: 0.5828\n",
      "Epoch 9/25\n",
      "500/500 [==============================] - 65s 130ms/step - loss: 0.6850 - accuracy: 0.5726 - val_loss: 0.6832 - val_accuracy: 0.5815\n",
      "Epoch 10/25\n",
      "500/500 [==============================] - 64s 129ms/step - loss: 0.6837 - accuracy: 0.5811 - val_loss: 0.6823 - val_accuracy: 0.5857\n",
      "Epoch 11/25\n",
      "500/500 [==============================] - 65s 129ms/step - loss: 0.6826 - accuracy: 0.5863 - val_loss: 0.6813 - val_accuracy: 0.5903\n",
      "Epoch 12/25\n",
      "500/500 [==============================] - 65s 130ms/step - loss: 0.6824 - accuracy: 0.5851 - val_loss: 0.6804 - val_accuracy: 0.5903\n",
      "Epoch 13/25\n",
      "500/500 [==============================] - 64s 129ms/step - loss: 0.6806 - accuracy: 0.5906 - val_loss: 0.6795 - val_accuracy: 0.5928\n",
      "Epoch 14/25\n",
      "500/500 [==============================] - 64s 129ms/step - loss: 0.6801 - accuracy: 0.5918 - val_loss: 0.6786 - val_accuracy: 0.5975\n",
      "Epoch 15/25\n",
      "500/500 [==============================] - 65s 131ms/step - loss: 0.6791 - accuracy: 0.5942 - val_loss: 0.6780 - val_accuracy: 0.5957\n",
      "Epoch 16/25\n",
      "500/500 [==============================] - 64s 129ms/step - loss: 0.6784 - accuracy: 0.5986 - val_loss: 0.6773 - val_accuracy: 0.5940\n",
      "Epoch 17/25\n",
      "500/500 [==============================] - 65s 129ms/step - loss: 0.6775 - accuracy: 0.5978 - val_loss: 0.6758 - val_accuracy: 0.6028\n",
      "Epoch 18/25\n",
      "500/500 [==============================] - 64s 128ms/step - loss: 0.6766 - accuracy: 0.5959 - val_loss: 0.6752 - val_accuracy: 0.5995\n",
      "Epoch 19/25\n",
      "500/500 [==============================] - 65s 130ms/step - loss: 0.6756 - accuracy: 0.5994 - val_loss: 0.6741 - val_accuracy: 0.6018\n",
      "Epoch 20/25\n",
      "500/500 [==============================] - 65s 130ms/step - loss: 0.6751 - accuracy: 0.6012 - val_loss: 0.6730 - val_accuracy: 0.6033\n",
      "Epoch 21/25\n",
      "500/500 [==============================] - 64s 129ms/step - loss: 0.6744 - accuracy: 0.6021 - val_loss: 0.6723 - val_accuracy: 0.6085\n",
      "Epoch 22/25\n",
      "500/500 [==============================] - 63s 127ms/step - loss: 0.6734 - accuracy: 0.6022 - val_loss: 0.6720 - val_accuracy: 0.6018\n",
      "Epoch 23/25\n",
      "500/500 [==============================] - 64s 128ms/step - loss: 0.6723 - accuracy: 0.6050 - val_loss: 0.6705 - val_accuracy: 0.6095\n",
      "Epoch 24/25\n",
      "500/500 [==============================] - 66s 132ms/step - loss: 0.6710 - accuracy: 0.6063 - val_loss: 0.6699 - val_accuracy: 0.6093\n",
      "Epoch 25/25\n",
      "500/500 [==============================] - 65s 130ms/step - loss: 0.6707 - accuracy: 0.6104 - val_loss: 0.6688 - val_accuracy: 0.6145\n",
      "Epoch 1/25\n",
      "500/500 [==============================] - 65s 129ms/step - loss: 0.6976 - accuracy: 0.5954 - val_loss: 0.5405 - val_accuracy: 0.7237\n",
      "Epoch 2/25\n",
      "500/500 [==============================] - 64s 127ms/step - loss: 0.5553 - accuracy: 0.7151 - val_loss: 0.4997 - val_accuracy: 0.7598\n",
      "Epoch 3/25\n",
      "500/500 [==============================] - 63s 127ms/step - loss: 0.5157 - accuracy: 0.7475 - val_loss: 0.4663 - val_accuracy: 0.7715\n",
      "Epoch 4/25\n",
      "500/500 [==============================] - 63s 126ms/step - loss: 0.4817 - accuracy: 0.7705 - val_loss: 0.4577 - val_accuracy: 0.7878\n",
      "Epoch 5/25\n",
      "500/500 [==============================] - 63s 126ms/step - loss: 0.4558 - accuracy: 0.7885 - val_loss: 0.4174 - val_accuracy: 0.8087\n",
      "Epoch 6/25\n",
      "500/500 [==============================] - 64s 127ms/step - loss: 0.4446 - accuracy: 0.8007 - val_loss: 0.4818 - val_accuracy: 0.7617\n",
      "Epoch 7/25\n",
      "500/500 [==============================] - 62s 124ms/step - loss: 0.4362 - accuracy: 0.7955 - val_loss: 0.4239 - val_accuracy: 0.8050\n",
      "Epoch 8/25\n",
      "500/500 [==============================] - 63s 127ms/step - loss: 0.4157 - accuracy: 0.8057 - val_loss: 0.4330 - val_accuracy: 0.8075\n",
      "Epoch 9/25\n",
      "500/500 [==============================] - 64s 129ms/step - loss: 0.4191 - accuracy: 0.8039 - val_loss: 0.4430 - val_accuracy: 0.8025\n",
      "Epoch 10/25\n",
      "500/500 [==============================] - 63s 126ms/step - loss: 0.3983 - accuracy: 0.8235 - val_loss: 0.4822 - val_accuracy: 0.7793\n",
      "Epoch 11/25\n",
      "500/500 [==============================] - 64s 127ms/step - loss: 0.3874 - accuracy: 0.8280 - val_loss: 0.4265 - val_accuracy: 0.8015\n",
      "Epoch 12/25\n",
      "500/500 [==============================] - 63s 127ms/step - loss: 0.3803 - accuracy: 0.8309 - val_loss: 0.4205 - val_accuracy: 0.8065\n",
      "Epoch 13/25\n",
      "500/500 [==============================] - 63s 126ms/step - loss: 0.3697 - accuracy: 0.8402 - val_loss: 0.4017 - val_accuracy: 0.8100\n",
      "Epoch 14/25\n",
      "500/500 [==============================] - 64s 127ms/step - loss: 0.3615 - accuracy: 0.8419 - val_loss: 0.4149 - val_accuracy: 0.8092\n",
      "Epoch 15/25\n",
      "500/500 [==============================] - 64s 128ms/step - loss: 0.3480 - accuracy: 0.8493 - val_loss: 0.5092 - val_accuracy: 0.7610\n",
      "Epoch 16/25\n",
      "500/500 [==============================] - 64s 127ms/step - loss: 0.3483 - accuracy: 0.8507 - val_loss: 0.4532 - val_accuracy: 0.7910\n",
      "Epoch 17/25\n",
      "500/500 [==============================] - 64s 128ms/step - loss: 0.3421 - accuracy: 0.8522 - val_loss: 0.4208 - val_accuracy: 0.8050\n",
      "Epoch 18/25\n",
      "500/500 [==============================] - 64s 129ms/step - loss: 0.3465 - accuracy: 0.8517 - val_loss: 0.4089 - val_accuracy: 0.8215\n",
      "Epoch 19/25\n",
      "500/500 [==============================] - 64s 128ms/step - loss: 0.3383 - accuracy: 0.8561 - val_loss: 0.4042 - val_accuracy: 0.8215\n",
      "Epoch 20/25\n",
      "500/500 [==============================] - 64s 128ms/step - loss: 0.3346 - accuracy: 0.8577 - val_loss: 0.6016 - val_accuracy: 0.7812\n",
      "Epoch 21/25\n",
      "500/500 [==============================] - 65s 130ms/step - loss: 0.3281 - accuracy: 0.8670 - val_loss: 0.4300 - val_accuracy: 0.8240\n",
      "Epoch 22/25\n",
      "500/500 [==============================] - 64s 127ms/step - loss: 0.3203 - accuracy: 0.8670 - val_loss: 0.4157 - val_accuracy: 0.8210\n",
      "Epoch 23/25\n",
      "500/500 [==============================] - 64s 127ms/step - loss: 0.3233 - accuracy: 0.8608 - val_loss: 0.5059 - val_accuracy: 0.8290\n",
      "Epoch 24/25\n",
      "500/500 [==============================] - 63s 127ms/step - loss: 0.3117 - accuracy: 0.8713 - val_loss: 0.4433 - val_accuracy: 0.8275\n",
      "Epoch 25/25\n",
      "500/500 [==============================] - 64s 129ms/step - loss: 0.3174 - accuracy: 0.8678 - val_loss: 0.4106 - val_accuracy: 0.8235\n",
      "Epoch 1/25\n",
      "500/500 [==============================] - 65s 130ms/step - loss: 0.6798 - accuracy: 0.5583 - val_loss: 0.5941 - val_accuracy: 0.6865\n",
      "Epoch 2/25\n",
      "500/500 [==============================] - 63s 127ms/step - loss: 0.5757 - accuracy: 0.6943 - val_loss: 0.5007 - val_accuracy: 0.7525\n",
      "Epoch 3/25\n",
      "500/500 [==============================] - 64s 129ms/step - loss: 0.5065 - accuracy: 0.7496 - val_loss: 0.4833 - val_accuracy: 0.7685\n",
      "Epoch 4/25\n",
      "500/500 [==============================] - 64s 128ms/step - loss: 0.4800 - accuracy: 0.7694 - val_loss: 0.4952 - val_accuracy: 0.7520\n",
      "Epoch 5/25\n",
      "500/500 [==============================] - 64s 128ms/step - loss: 0.4484 - accuracy: 0.7886 - val_loss: 0.4483 - val_accuracy: 0.7828\n",
      "Epoch 6/25\n",
      "500/500 [==============================] - 64s 128ms/step - loss: 0.4348 - accuracy: 0.8018 - val_loss: 0.4475 - val_accuracy: 0.7803\n",
      "Epoch 7/25\n",
      "500/500 [==============================] - 64s 127ms/step - loss: 0.4114 - accuracy: 0.8131 - val_loss: 0.4194 - val_accuracy: 0.8048\n",
      "Epoch 8/25\n",
      "500/500 [==============================] - 65s 130ms/step - loss: 0.4108 - accuracy: 0.8110 - val_loss: 0.4283 - val_accuracy: 0.7965\n",
      "Epoch 9/25\n",
      "500/500 [==============================] - 63s 127ms/step - loss: 0.3805 - accuracy: 0.8296 - val_loss: 0.4542 - val_accuracy: 0.7812\n",
      "Epoch 10/25\n",
      "500/500 [==============================] - 64s 128ms/step - loss: 0.3704 - accuracy: 0.8356 - val_loss: 0.4198 - val_accuracy: 0.8005\n",
      "Epoch 11/25\n",
      "500/500 [==============================] - 64s 129ms/step - loss: 0.3540 - accuracy: 0.8440 - val_loss: 0.4164 - val_accuracy: 0.8048\n",
      "Epoch 12/25\n",
      "500/500 [==============================] - 64s 127ms/step - loss: 0.3356 - accuracy: 0.8511 - val_loss: 0.4145 - val_accuracy: 0.8102\n",
      "Epoch 13/25\n",
      "500/500 [==============================] - 65s 130ms/step - loss: 0.3332 - accuracy: 0.8540 - val_loss: 0.4268 - val_accuracy: 0.8048\n",
      "Epoch 14/25\n",
      "500/500 [==============================] - 64s 129ms/step - loss: 0.3199 - accuracy: 0.8604 - val_loss: 0.4054 - val_accuracy: 0.8175\n",
      "Epoch 15/25\n",
      "500/500 [==============================] - 64s 129ms/step - loss: 0.3042 - accuracy: 0.8659 - val_loss: 0.4371 - val_accuracy: 0.8083\n",
      "Epoch 16/25\n",
      "500/500 [==============================] - 65s 131ms/step - loss: 0.2909 - accuracy: 0.8765 - val_loss: 0.4180 - val_accuracy: 0.8263\n",
      "Epoch 17/25\n",
      "500/500 [==============================] - 65s 131ms/step - loss: 0.2749 - accuracy: 0.8801 - val_loss: 0.4617 - val_accuracy: 0.8075\n",
      "Epoch 18/25\n",
      "500/500 [==============================] - 65s 130ms/step - loss: 0.2670 - accuracy: 0.8888 - val_loss: 0.4356 - val_accuracy: 0.8167\n",
      "Epoch 19/25\n",
      "500/500 [==============================] - 64s 128ms/step - loss: 0.2501 - accuracy: 0.8956 - val_loss: 0.4690 - val_accuracy: 0.8105\n",
      "Epoch 20/25\n",
      "500/500 [==============================] - 65s 130ms/step - loss: 0.2468 - accuracy: 0.8953 - val_loss: 0.4478 - val_accuracy: 0.8192\n",
      "Epoch 21/25\n",
      "500/500 [==============================] - 65s 130ms/step - loss: 0.2328 - accuracy: 0.9024 - val_loss: 0.4350 - val_accuracy: 0.8210\n",
      "Epoch 22/25\n",
      "500/500 [==============================] - 65s 131ms/step - loss: 0.2230 - accuracy: 0.9076 - val_loss: 0.4715 - val_accuracy: 0.8142\n",
      "Epoch 23/25\n",
      "500/500 [==============================] - 65s 130ms/step - loss: 0.2154 - accuracy: 0.9115 - val_loss: 0.4849 - val_accuracy: 0.8135\n",
      "Epoch 24/25\n",
      "500/500 [==============================] - 64s 129ms/step - loss: 0.2026 - accuracy: 0.9173 - val_loss: 0.4521 - val_accuracy: 0.8217\n",
      "Epoch 25/25\n",
      "500/500 [==============================] - 66s 133ms/step - loss: 0.1892 - accuracy: 0.9246 - val_loss: 0.5063 - val_accuracy: 0.8135\n",
      "Epoch 1/25\n",
      "500/500 [==============================] - 67s 133ms/step - loss: 0.6807 - accuracy: 0.5751 - val_loss: 0.6245 - val_accuracy: 0.6365\n",
      "Epoch 2/25\n",
      "500/500 [==============================] - 66s 131ms/step - loss: 0.5853 - accuracy: 0.6883 - val_loss: 0.5382 - val_accuracy: 0.7200\n",
      "Epoch 3/25\n",
      "500/500 [==============================] - 65s 131ms/step - loss: 0.5444 - accuracy: 0.7245 - val_loss: 0.5418 - val_accuracy: 0.7175\n",
      "Epoch 4/25\n",
      "500/500 [==============================] - 64s 128ms/step - loss: 0.5269 - accuracy: 0.7406 - val_loss: 0.5492 - val_accuracy: 0.7170\n",
      "Epoch 5/25\n",
      "500/500 [==============================] - 65s 131ms/step - loss: 0.5056 - accuracy: 0.7505 - val_loss: 0.6010 - val_accuracy: 0.7042\n",
      "Epoch 6/25\n",
      "500/500 [==============================] - 66s 133ms/step - loss: 0.4908 - accuracy: 0.7640 - val_loss: 0.4643 - val_accuracy: 0.7788\n",
      "Epoch 7/25\n",
      "500/500 [==============================] - 66s 132ms/step - loss: 0.4756 - accuracy: 0.7682 - val_loss: 0.5184 - val_accuracy: 0.7360\n",
      "Epoch 8/25\n",
      "500/500 [==============================] - 66s 132ms/step - loss: 0.4603 - accuracy: 0.7829 - val_loss: 0.4785 - val_accuracy: 0.7697\n",
      "Epoch 9/25\n",
      "500/500 [==============================] - 65s 131ms/step - loss: 0.4434 - accuracy: 0.7967 - val_loss: 0.4316 - val_accuracy: 0.7987\n",
      "Epoch 10/25\n",
      "500/500 [==============================] - 66s 132ms/step - loss: 0.4315 - accuracy: 0.8014 - val_loss: 0.4269 - val_accuracy: 0.7925\n",
      "Epoch 11/25\n",
      "500/500 [==============================] - 70s 140ms/step - loss: 0.4297 - accuracy: 0.8035 - val_loss: 0.4378 - val_accuracy: 0.7943\n",
      "Epoch 12/25\n",
      "500/500 [==============================] - 68s 136ms/step - loss: 0.4282 - accuracy: 0.8031 - val_loss: 0.4254 - val_accuracy: 0.8018\n",
      "Epoch 13/25\n",
      "500/500 [==============================] - 69s 139ms/step - loss: 0.4201 - accuracy: 0.8050 - val_loss: 0.4287 - val_accuracy: 0.7975\n",
      "Epoch 14/25\n",
      "500/500 [==============================] - 70s 140ms/step - loss: 0.3968 - accuracy: 0.8222 - val_loss: 0.4060 - val_accuracy: 0.8140\n",
      "Epoch 15/25\n",
      "500/500 [==============================] - 70s 139ms/step - loss: 0.3854 - accuracy: 0.8249 - val_loss: 0.4149 - val_accuracy: 0.8115\n",
      "Epoch 16/25\n",
      "500/500 [==============================] - 70s 139ms/step - loss: 0.3734 - accuracy: 0.8313 - val_loss: 0.4059 - val_accuracy: 0.8108\n",
      "Epoch 17/25\n",
      "500/500 [==============================] - 70s 140ms/step - loss: 0.3762 - accuracy: 0.8319 - val_loss: 0.4065 - val_accuracy: 0.8123\n",
      "Epoch 18/25\n",
      "500/500 [==============================] - 70s 139ms/step - loss: 0.3655 - accuracy: 0.8356 - val_loss: 0.4080 - val_accuracy: 0.8117\n",
      "Epoch 19/25\n",
      "500/500 [==============================] - 70s 139ms/step - loss: 0.3536 - accuracy: 0.8431 - val_loss: 0.4235 - val_accuracy: 0.8065\n",
      "Epoch 20/25\n",
      "500/500 [==============================] - 70s 141ms/step - loss: 0.3434 - accuracy: 0.8547 - val_loss: 0.3973 - val_accuracy: 0.8190\n",
      "Epoch 21/25\n",
      "500/500 [==============================] - 70s 140ms/step - loss: 0.3411 - accuracy: 0.8469 - val_loss: 0.4426 - val_accuracy: 0.8025\n",
      "Epoch 22/25\n",
      "500/500 [==============================] - 70s 139ms/step - loss: 0.3474 - accuracy: 0.8440 - val_loss: 0.3835 - val_accuracy: 0.8263\n",
      "Epoch 23/25\n",
      "500/500 [==============================] - 70s 141ms/step - loss: 0.3281 - accuracy: 0.8552 - val_loss: 0.3885 - val_accuracy: 0.8273\n",
      "Epoch 24/25\n",
      "500/500 [==============================] - 70s 140ms/step - loss: 0.3158 - accuracy: 0.8623 - val_loss: 0.4401 - val_accuracy: 0.8090\n",
      "Epoch 25/25\n",
      "500/500 [==============================] - 70s 140ms/step - loss: 0.3168 - accuracy: 0.8656 - val_loss: 0.4121 - val_accuracy: 0.8150\n"
     ]
    }
   ],
   "source": [
    "for trained_model in optimizer_model_fit:\n",
    "    optimizer_model_trained.append({\n",
    "        \"name\": trained_model[\"name\"],\n",
    "        \"trained_model\": trained_model[\"fit_model\"].fit(x=train_set, validation_data=val_set, epochs=25),\n",
    "    })"
   ]
  },
  {
   "cell_type": "code",
   "execution_count": 30,
   "id": "ad92f22a",
   "metadata": {
    "ExecuteTime": {
     "end_time": "2021-11-13T04:54:51.143866Z",
     "start_time": "2021-11-13T04:54:50.564150Z"
    },
    "scrolled": false
   },
   "outputs": [
    {
     "name": "stdout",
     "output_type": "stream",
     "text": [
      "['__class__', '__contains__', '__delattr__', '__delitem__', '__dir__', '__doc__', '__eq__', '__format__', '__ge__', '__getattribute__', '__getitem__', '__gt__', '__hash__', '__init__', '__init_subclass__', '__iter__', '__le__', '__len__', '__lt__', '__ne__', '__new__', '__reduce__', '__reduce_ex__', '__repr__', '__reversed__', '__setattr__', '__setitem__', '__sizeof__', '__str__', '__subclasshook__', 'clear', 'copy', 'fromkeys', 'get', 'items', 'keys', 'pop', 'popitem', 'setdefault', 'update', 'values']\n"
     ]
    }
   ],
   "source": [
    "# print(dir(optimizer_model_trained[0][\"trained_model\"].history))"
   ]
  },
  {
   "cell_type": "code",
   "execution_count": 52,
   "id": "8de1819d",
   "metadata": {},
   "outputs": [],
   "source": [
    "def cm_to_inch(value):\n",
    "    return value/2.54\n",
    "\n",
    "plt.figure(figsize=(cm_to_inch(15),cm_to_inch(10)), dpi=80)"
   ]
  },
  {
   "cell_type": "code",
   "execution_count": 50,
   "id": "ad1b3ae2",
   "metadata": {},
   "outputs": [],
   "source": [
    "def plot_model_result_accuracy(model_list):\n",
    "    plt.plot(model_list[0][\"trained_model\"].history['accuracy'], marker=\"o\", color='red', label=(model_list[0][\"name\"]+\" train\"))\n",
    "    plt.plot(model_list[0][\"trained_model\"].history['val_accuracy'], marker=\"x\", color='red', label=(model_list[0][\"name\"]+\" test\"))\n",
    "    plt.plot(model_list[1][\"trained_model\"].history['accuracy'], marker=\"o\", color='green', label=(model_list[1][\"name\"]+\" train\"))\n",
    "    plt.plot(model_list[1][\"trained_model\"].history['val_accuracy'], marker=\"x\", color='green', label=(model_list[1][\"name\"]+\" test\"))\n",
    "    plt.plot(model_list[2][\"trained_model\"].history['accuracy'], marker=\"o\", color='blue', label=(model_list[2][\"name\"]+\" train\"))\n",
    "    plt.plot(model_list[2][\"trained_model\"].history['val_accuracy'], marker=\"x\", color='blue', label=(model_list[2][\"name\"]+\" test\"))\n",
    "    plt.plot(model_list[3][\"trained_model\"].history['accuracy'], marker=\"o\", color='brown', label=(model_list[3][\"name\"]+\" train\"))\n",
    "    plt.plot(model_list[3][\"trained_model\"].history['val_accuracy'], marker=\"x\", color='brown', label=(model_list[3][\"name\"]+\" test\"))\n",
    "    plt.plot(model_list[4][\"trained_model\"].history['accuracy'], marker=\"o\", color='magenta', label=(model_list[4][\"name\"]+\" train\"))\n",
    "    plt.plot(model_list[4][\"trained_model\"].history['val_accuracy'], marker=\"x\", color='magenta', label=(model_list[4][\"name\"]+\" test\"))\n",
    "\n",
    "    plt.title(\"Optimizers Classification Accuracy\")\n",
    "    plt.xlabel(\"Epoches\")\n",
    "    plt.ylabel(\"Accuracy Rate\")\n",
    "    plt.legend()\n",
    "    plt.show()"
   ]
  },
  {
   "cell_type": "code",
   "execution_count": 54,
   "id": "11407186",
   "metadata": {},
   "outputs": [
    {
     "data": {
      "image/png": "[encoded data removed]",
      "text/plain": [
       "<Figure size 432x288 with 1 Axes>"
      ]
     },
     "metadata": {
      "needs_background": "light"
     },
     "output_type": "display_data"
    }
   ],
   "source": [
    "plot_model_result_accuracy(optimizer_model_trained)"
   ]
  },
  {
   "cell_type": "code",
   "execution_count": 55,
   "id": "02551bf6",
   "metadata": {},
   "outputs": [],
   "source": [
    "def plot_model_result_loss(model_list):\n",
    "    plt.plot(model_list[0][\"trained_model\"].history['loss'], marker=\"o\", color='red', label=(model_list[0][\"name\"]+\" train\"))\n",
    "    plt.plot(model_list[0][\"trained_model\"].history['val_loss'], marker=\"x\", color='red', label=(model_list[0][\"name\"]+\" test\"))\n",
    "    plt.plot(model_list[1][\"trained_model\"].history['loss'], marker=\"o\", color='green', label=(model_list[1][\"name\"]+\" train\"))\n",
    "    plt.plot(model_list[1][\"trained_model\"].history['val_loss'], marker=\"x\", color='green', label=(model_list[1][\"name\"]+\" test\"))\n",
    "    plt.plot(model_list[2][\"trained_model\"].history['loss'], marker=\"o\", color='blue', label=(model_list[2][\"name\"]+\" train\"))\n",
    "    plt.plot(model_list[2][\"trained_model\"].history['val_loss'], marker=\"x\", color='blue', label=(model_list[2][\"name\"]+\" test\"))\n",
    "    plt.plot(model_list[3][\"trained_model\"].history['loss'], marker=\"o\", color='brown', label=(model_list[3][\"name\"]+\" train\"))\n",
    "    plt.plot(model_list[3][\"trained_model\"].history['val_loss'], marker=\"x\", color='brown', label=(model_list[3][\"name\"]+\" test\"))\n",
    "    plt.plot(model_list[4][\"trained_model\"].history['loss'], marker=\"o\", color='magenta', label=(model_list[4][\"name\"]+\" train\"))\n",
    "    plt.plot(model_list[4][\"trained_model\"].history['val_loss'], marker=\"x\", color='magenta', label=(model_list[4][\"name\"]+\" test\"))\n",
    "\n",
    "    plt.title(\"Cross Entropy Loss\")\n",
    "    plt.xlabel(\"Epoches\")\n",
    "    plt.ylabel(\"Loss Rate\")\n",
    "    plt.legend()\n",
    "    plt.show()"
   ]
  },
  {
   "cell_type": "code",
   "execution_count": 57,
   "id": "882b7809",
   "metadata": {},
   "outputs": [
    {
     "data": {
      "image/png": "[encoded data removed]",
      "text/plain": [
       "<Figure size 432x288 with 1 Axes>"
      ]
     },
     "metadata": {
      "needs_background": "light"
     },
     "output_type": "display_data"
    }
   ],
   "source": [
    "plot_model_result_loss(optimizer_model_trained)"
   ]
  },
  {
   "cell_type": "code",
   "execution_count": null,
   "id": "5a891e70",
   "metadata": {},
   "outputs": [],
   "source": []
  }
 ],
 "metadata": {
  "interpreter": {
   "hash": "790ae0549be60c79297775963a040dfe042886fdce8b373b73d4fd00dba9bda9"
  },
  "kernelspec": {
   "display_name": "Python 3",
   "language": "python",
   "name": "python3"
  },
  "language_info": {
   "codemirror_mode": {
    "name": "ipython",
    "version": 3
   },
   "file_extension": ".py",
   "mimetype": "text/x-python",
   "name": "python",
   "nbconvert_exporter": "python",
   "pygments_lexer": "ipython3",
   "version": "3.8.12"
  },
  "latex_envs": {
   "LaTeX_envs_menu_present": true,
   "autoclose": false,
   "autocomplete": true,
   "bibliofile": "biblio.bib",
   "cite_by": "apalike",
   "current_citInitial": 1,
   "eqLabelWithNumbers": true,
   "eqNumInitial": 1,
   "hotkeys": {
    "equation": "Ctrl-E",
    "itemize": "Ctrl-I"
   },
   "labels_anchors": false,
   "latex_user_defs": false,
   "report_style_numbering": false,
   "user_envs_cfg": false
  },
  "toc": {
   "base_numbering": 1,
   "nav_menu": {},
   "number_sections": true,
   "sideBar": true,
   "skip_h1_title": false,
   "title_cell": "Table of Contents",
   "title_sidebar": "Contents",
   "toc_cell": false,
   "toc_position": {
    "height": "calc(100% - 180px)",
    "left": "10px",
    "top": "150px",
    "width": "241px"
   },
   "toc_section_display": true,
   "toc_window_display": true
  }
 },
 "nbformat": 4,
 "nbformat_minor": 5
}
