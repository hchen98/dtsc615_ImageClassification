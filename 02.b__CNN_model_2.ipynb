{
 "cells": [
  {
   "cell_type": "markdown",
   "id": "0622af29",
   "metadata": {
    "toc": true
   },
   "source": [
    "<h1>Table of Contents<span class=\"tocSkip\"></span></h1>\n",
    "<div class=\"toc\"><ul class=\"toc-item\"><li><span><a href=\"#Get-Started\" data-toc-modified-id=\"Get-Started-1\"><span class=\"toc-item-num\">1&nbsp;&nbsp;</span>Get Started</a></span><ul class=\"toc-item\"><li><span><a href=\"#Activate-the-Conda-env\" data-toc-modified-id=\"Activate-the-Conda-env-1.1\"><span class=\"toc-item-num\">1.1&nbsp;&nbsp;</span>Activate the Conda env</a></span></li><li><span><a href=\"#Install-the-dependencies\" data-toc-modified-id=\"Install-the-dependencies-1.2\"><span class=\"toc-item-num\">1.2&nbsp;&nbsp;</span>Install the dependencies</a></span></li><li><span><a href=\"#Get-the-GPU/CPU-info\" data-toc-modified-id=\"Get-the-GPU/CPU-info-1.3\"><span class=\"toc-item-num\">1.3&nbsp;&nbsp;</span>Get the GPU/CPU info</a></span></li></ul></li><li><span><a href=\"#Preprocessing\" data-toc-modified-id=\"Preprocessing-2\"><span class=\"toc-item-num\">2&nbsp;&nbsp;</span>Preprocessing</a></span><ul class=\"toc-item\"><li><span><a href=\"#Splitting-the-images\" data-toc-modified-id=\"Splitting-the-images-2.1\"><span class=\"toc-item-num\">2.1&nbsp;&nbsp;</span>Splitting the images</a></span><ul class=\"toc-item\"><li><span><a href=\"#Training-Set\" data-toc-modified-id=\"Training-Set-2.1.1\"><span class=\"toc-item-num\">2.1.1&nbsp;&nbsp;</span>Training Set</a></span></li><li><span><a href=\"#Val-set\" data-toc-modified-id=\"Val-set-2.1.2\"><span class=\"toc-item-num\">2.1.2&nbsp;&nbsp;</span>Val set</a></span></li><li><span><a href=\"#Test-Set\" data-toc-modified-id=\"Test-Set-2.1.3\"><span class=\"toc-item-num\">2.1.3&nbsp;&nbsp;</span>Test Set</a></span></li></ul></li></ul></li><li><span><a href=\"#The-CNN-model\" data-toc-modified-id=\"The-CNN-model-3\"><span class=\"toc-item-num\">3&nbsp;&nbsp;</span>The CNN model</a></span><ul class=\"toc-item\"><li><span><a href=\"#The-model\" data-toc-modified-id=\"The-model-3.1\"><span class=\"toc-item-num\">3.1&nbsp;&nbsp;</span>The model</a></span></li></ul></li><li><span><a href=\"#Training-the-CNN\" data-toc-modified-id=\"Training-the-CNN-4\"><span class=\"toc-item-num\">4&nbsp;&nbsp;</span>Training the CNN</a></span><ul class=\"toc-item\"><li><span><a href=\"#Train-the-CNN-on-the-training-set-and-evaluating-the-test-set\" data-toc-modified-id=\"Train-the-CNN-on-the-training-set-and-evaluating-the-test-set-4.1\"><span class=\"toc-item-num\">4.1&nbsp;&nbsp;</span>Train the CNN on the training set and evaluating the test set</a></span></li><li><span><a href=\"#Save-the-models\" data-toc-modified-id=\"Save-the-models-4.2\"><span class=\"toc-item-num\">4.2&nbsp;&nbsp;</span>Save the models</a></span></li></ul></li><li><span><a href=\"#Analysis\" data-toc-modified-id=\"Analysis-5\"><span class=\"toc-item-num\">5&nbsp;&nbsp;</span>Analysis</a></span><ul class=\"toc-item\"><li><span><a href=\"#Plot-the-Accuracy-and-Loss-for-the-train-and-validate-set\" data-toc-modified-id=\"Plot-the-Accuracy-and-Loss-for-the-train-and-validate-set-5.1\"><span class=\"toc-item-num\">5.1&nbsp;&nbsp;</span>Plot the Accuracy and Loss for the train and validate set</a></span></li><li><span><a href=\"#Evaluation\" data-toc-modified-id=\"Evaluation-5.2\"><span class=\"toc-item-num\">5.2&nbsp;&nbsp;</span>Evaluation</a></span></li><li><span><a href=\"#Load-trained-models\" data-toc-modified-id=\"Load-trained-models-5.3\"><span class=\"toc-item-num\">5.3&nbsp;&nbsp;</span>Load trained models</a></span><ul class=\"toc-item\"><li><span><a href=\"#Confusion-Matrix\" data-toc-modified-id=\"Confusion-Matrix-5.3.1\"><span class=\"toc-item-num\">5.3.1&nbsp;&nbsp;</span>Confusion Matrix</a></span></li></ul></li></ul></li></ul></div>"
   ]
  },
  {
   "cell_type": "markdown",
   "id": "9e60faa1",
   "metadata": {},
   "source": [
    "# Get Started\n",
    "## Activate the Conda env\n",
    "\n",
    "```\n",
    "    # create the env if you have not: conda create --name dtsc615\n",
    "    conda activate dtsc615\n",
    "```\n",
    "\n",
    "## Install the dependencies\n",
    "```\n",
    "    conda install -c anaconda jupyter\n",
    "    conda install -c anaconda tensorflow-gpu\n",
    "    conda install -c anaconda pandas\n",
    "    conda install -c anaconda matplotlib\n",
    "```"
   ]
  },
  {
   "cell_type": "code",
   "execution_count": 27,
   "id": "e9b20ef1",
   "metadata": {},
   "outputs": [
    {
     "name": "stdout",
     "output_type": "stream",
     "text": [
      "Collecting seaborn\n",
      "  Downloading seaborn-0.11.2-py3-none-any.whl (292 kB)\n",
      "     |████████████████████████████████| 292 kB 2.4 MB/s            \n",
      "\u001b[?25hRequirement already satisfied: numpy>=1.15 in /home/hui/anaconda3/envs/tensorflow_gpu/lib/python3.8/site-packages (from seaborn) (1.21.5)\n",
      "Requirement already satisfied: matplotlib>=2.2 in /home/hui/.local/lib/python3.8/site-packages (from seaborn) (3.5.0)\n",
      "Requirement already satisfied: scipy>=1.0 in /home/hui/anaconda3/envs/tensorflow_gpu/lib/python3.8/site-packages (from seaborn) (1.7.3)\n",
      "Requirement already satisfied: pandas>=0.23 in /home/hui/.local/lib/python3.8/site-packages (from seaborn) (1.2.5)\n",
      "Requirement already satisfied: cycler>=0.10 in /home/hui/.local/lib/python3.8/site-packages (from matplotlib>=2.2->seaborn) (0.11.0)\n",
      "Requirement already satisfied: setuptools-scm>=4 in /home/hui/.local/lib/python3.8/site-packages (from matplotlib>=2.2->seaborn) (6.3.2)\n",
      "Requirement already satisfied: python-dateutil>=2.7 in /home/hui/anaconda3/envs/tensorflow_gpu/lib/python3.8/site-packages (from matplotlib>=2.2->seaborn) (2.8.2)\n",
      "Requirement already satisfied: kiwisolver>=1.0.1 in /home/hui/.local/lib/python3.8/site-packages (from matplotlib>=2.2->seaborn) (1.3.2)\n",
      "Requirement already satisfied: fonttools>=4.22.0 in /home/hui/.local/lib/python3.8/site-packages (from matplotlib>=2.2->seaborn) (4.28.1)\n",
      "Requirement already satisfied: pyparsing>=2.2.1 in /home/hui/anaconda3/envs/tensorflow_gpu/lib/python3.8/site-packages (from matplotlib>=2.2->seaborn) (2.4.7)\n",
      "Requirement already satisfied: pillow>=6.2.0 in /home/hui/anaconda3/envs/tensorflow_gpu/lib/python3.8/site-packages (from matplotlib>=2.2->seaborn) (8.4.0)\n",
      "Requirement already satisfied: packaging>=20.0 in /home/hui/.local/lib/python3.8/site-packages (from matplotlib>=2.2->seaborn) (21.2)\n",
      "Requirement already satisfied: pytz>=2017.3 in /home/hui/anaconda3/envs/tensorflow_gpu/lib/python3.8/site-packages (from pandas>=0.23->seaborn) (2021.3)\n",
      "Requirement already satisfied: six>=1.5 in /home/hui/anaconda3/envs/tensorflow_gpu/lib/python3.8/site-packages (from python-dateutil>=2.7->matplotlib>=2.2->seaborn) (1.16.0)\n",
      "Requirement already satisfied: tomli>=1.0.0 in /home/hui/.local/lib/python3.8/site-packages (from setuptools-scm>=4->matplotlib>=2.2->seaborn) (1.2.2)\n",
      "Requirement already satisfied: setuptools in /home/hui/.local/lib/python3.8/site-packages (from setuptools-scm>=4->matplotlib>=2.2->seaborn) (59.1.1)\n",
      "Installing collected packages: seaborn\n",
      "Successfully installed seaborn-0.11.2\n"
     ]
    }
   ],
   "source": [
    "#!pip install tensorflow\n",
    "#!pip install keras\n",
    "#!pip install seaborn"
   ]
  },
  {
   "cell_type": "code",
   "execution_count": 1,
   "id": "b167aef0",
   "metadata": {},
   "outputs": [
    {
     "name": "stdout",
     "output_type": "stream",
     "text": [
      "/home/hui/.local/share/jupyter\n"
     ]
    },
    {
     "data": {
      "text/plain": [
       "'/home/hui/anaconda3/envs/tensorflow_gpu/bin/python'"
      ]
     },
     "execution_count": 1,
     "metadata": {},
     "output_type": "execute_result"
    }
   ],
   "source": [
    "from jupyter_core.paths import jupyter_data_dir\n",
    "print(jupyter_data_dir())\n",
    "\n",
    "import sys\n",
    "sys.executable"
   ]
  },
  {
   "cell_type": "code",
   "execution_count": 2,
   "id": "3fce6b84",
   "metadata": {},
   "outputs": [
    {
     "name": "stdout",
     "output_type": "stream",
     "text": [
      "# packages in environment at /home/hui/anaconda3/envs/tensorflow_gpu:\n",
      "#\n",
      "# Name                    Version                   Build  Channel\n",
      "tensorflow-gpu            2.4.1                h30adc30_0  \n"
     ]
    }
   ],
   "source": [
    "!conda list tensorflow-gpu"
   ]
  },
  {
   "cell_type": "markdown",
   "id": "b69aa546",
   "metadata": {},
   "source": [
    "## Get the GPU/CPU info"
   ]
  },
  {
   "cell_type": "code",
   "execution_count": 3,
   "id": "73427fec",
   "metadata": {
    "ExecuteTime": {
     "end_time": "2021-12-30T19:19:39.942595Z",
     "start_time": "2021-12-30T19:19:36.887413Z"
    }
   },
   "outputs": [
    {
     "name": "stderr",
     "output_type": "stream",
     "text": [
      "2022-01-01 21:27:57.728576: I tensorflow/stream_executor/platform/default/dso_loader.cc:49] Successfully opened dynamic library libcudart.so.10.1\n"
     ]
    },
    {
     "name": "stdout",
     "output_type": "stream",
     "text": [
      "Here: \n",
      "True\n",
      "\n",
      "#############################################################\n",
      "Default GPU Device: /device:GPU:0\n",
      "#############################################################\n"
     ]
    },
    {
     "name": "stderr",
     "output_type": "stream",
     "text": [
      "2022-01-01 21:27:59.630843: I tensorflow/core/platform/cpu_feature_guard.cc:142] This TensorFlow binary is optimized with oneAPI Deep Neural Network Library (oneDNN) to use the following CPU instructions in performance-critical operations:  SSE4.1 SSE4.2 AVX AVX2 FMA\n",
      "To enable them in other operations, rebuild TensorFlow with the appropriate compiler flags.\n",
      "2022-01-01 21:27:59.632467: I tensorflow/compiler/jit/xla_gpu_device.cc:99] Not creating XLA devices, tf_xla_enable_xla_devices not set\n",
      "2022-01-01 21:27:59.634532: I tensorflow/stream_executor/platform/default/dso_loader.cc:49] Successfully opened dynamic library libcuda.so.1\n",
      "2022-01-01 21:27:59.706515: I tensorflow/stream_executor/cuda/cuda_gpu_executor.cc:941] successful NUMA node read from SysFS had negative value (-1), but there must be at least one NUMA node, so returning NUMA node zero\n",
      "2022-01-01 21:27:59.707548: I tensorflow/core/common_runtime/gpu/gpu_device.cc:1720] Found device 0 with properties: \n",
      "pciBusID: 0000:01:00.0 name: NVIDIA GeForce RTX 2070 with Max-Q Design computeCapability: 7.5\n",
      "coreClock: 1.185GHz coreCount: 36 deviceMemorySize: 7.79GiB deviceMemoryBandwidth: 357.69GiB/s\n",
      "2022-01-01 21:27:59.707605: I tensorflow/stream_executor/platform/default/dso_loader.cc:49] Successfully opened dynamic library libcudart.so.10.1\n",
      "2022-01-01 21:27:59.740072: I tensorflow/stream_executor/platform/default/dso_loader.cc:49] Successfully opened dynamic library libcublas.so.10\n",
      "2022-01-01 21:27:59.740140: I tensorflow/stream_executor/platform/default/dso_loader.cc:49] Successfully opened dynamic library libcublasLt.so.10\n",
      "2022-01-01 21:27:59.791601: I tensorflow/stream_executor/platform/default/dso_loader.cc:49] Successfully opened dynamic library libcufft.so.10\n",
      "2022-01-01 21:27:59.794125: I tensorflow/stream_executor/platform/default/dso_loader.cc:49] Successfully opened dynamic library libcurand.so.10\n",
      "2022-01-01 21:27:59.826824: I tensorflow/stream_executor/platform/default/dso_loader.cc:49] Successfully opened dynamic library libcusolver.so.10\n",
      "2022-01-01 21:27:59.830086: I tensorflow/stream_executor/platform/default/dso_loader.cc:49] Successfully opened dynamic library libcusparse.so.10\n",
      "2022-01-01 21:27:59.907086: I tensorflow/stream_executor/platform/default/dso_loader.cc:49] Successfully opened dynamic library libcudnn.so.7\n",
      "2022-01-01 21:27:59.907441: I tensorflow/stream_executor/cuda/cuda_gpu_executor.cc:941] successful NUMA node read from SysFS had negative value (-1), but there must be at least one NUMA node, so returning NUMA node zero\n",
      "2022-01-01 21:27:59.909573: I tensorflow/stream_executor/cuda/cuda_gpu_executor.cc:941] successful NUMA node read from SysFS had negative value (-1), but there must be at least one NUMA node, so returning NUMA node zero\n",
      "2022-01-01 21:27:59.910684: I tensorflow/core/common_runtime/gpu/gpu_device.cc:1862] Adding visible gpu devices: 0\n",
      "2022-01-01 21:27:59.911389: I tensorflow/stream_executor/platform/default/dso_loader.cc:49] Successfully opened dynamic library libcudart.so.10.1\n",
      "2022-01-01 21:28:00.787388: I tensorflow/core/common_runtime/gpu/gpu_device.cc:1261] Device interconnect StreamExecutor with strength 1 edge matrix:\n",
      "2022-01-01 21:28:00.787409: I tensorflow/core/common_runtime/gpu/gpu_device.cc:1267]      0 \n",
      "2022-01-01 21:28:00.787414: I tensorflow/core/common_runtime/gpu/gpu_device.cc:1280] 0:   N \n",
      "2022-01-01 21:28:00.787880: I tensorflow/stream_executor/cuda/cuda_gpu_executor.cc:941] successful NUMA node read from SysFS had negative value (-1), but there must be at least one NUMA node, so returning NUMA node zero\n",
      "2022-01-01 21:28:00.788260: I tensorflow/stream_executor/cuda/cuda_gpu_executor.cc:941] successful NUMA node read from SysFS had negative value (-1), but there must be at least one NUMA node, so returning NUMA node zero\n",
      "2022-01-01 21:28:00.788590: I tensorflow/stream_executor/cuda/cuda_gpu_executor.cc:941] successful NUMA node read from SysFS had negative value (-1), but there must be at least one NUMA node, so returning NUMA node zero\n",
      "2022-01-01 21:28:00.788910: I tensorflow/core/common_runtime/gpu/gpu_device.cc:1406] Created TensorFlow device (/device:GPU:0 with 6741 MB memory) -> physical GPU (device: 0, name: NVIDIA GeForce RTX 2070 with Max-Q Design, pci bus id: 0000:01:00.0, compute capability: 7.5)\n",
      "2022-01-01 21:28:00.790994: I tensorflow/compiler/jit/xla_gpu_device.cc:99] Not creating XLA devices, tf_xla_enable_xla_devices not set\n",
      "2022-01-01 21:28:00.791054: I tensorflow/stream_executor/cuda/cuda_gpu_executor.cc:941] successful NUMA node read from SysFS had negative value (-1), but there must be at least one NUMA node, so returning NUMA node zero\n",
      "2022-01-01 21:28:00.791369: I tensorflow/core/common_runtime/gpu/gpu_device.cc:1720] Found device 0 with properties: \n",
      "pciBusID: 0000:01:00.0 name: NVIDIA GeForce RTX 2070 with Max-Q Design computeCapability: 7.5\n",
      "coreClock: 1.185GHz coreCount: 36 deviceMemorySize: 7.79GiB deviceMemoryBandwidth: 357.69GiB/s\n",
      "2022-01-01 21:28:00.791385: I tensorflow/stream_executor/platform/default/dso_loader.cc:49] Successfully opened dynamic library libcudart.so.10.1\n",
      "2022-01-01 21:28:00.791400: I tensorflow/stream_executor/platform/default/dso_loader.cc:49] Successfully opened dynamic library libcublas.so.10\n",
      "2022-01-01 21:28:00.791410: I tensorflow/stream_executor/platform/default/dso_loader.cc:49] Successfully opened dynamic library libcublasLt.so.10\n",
      "2022-01-01 21:28:00.791419: I tensorflow/stream_executor/platform/default/dso_loader.cc:49] Successfully opened dynamic library libcufft.so.10\n",
      "2022-01-01 21:28:00.791428: I tensorflow/stream_executor/platform/default/dso_loader.cc:49] Successfully opened dynamic library libcurand.so.10\n",
      "2022-01-01 21:28:00.791438: I tensorflow/stream_executor/platform/default/dso_loader.cc:49] Successfully opened dynamic library libcusolver.so.10\n",
      "2022-01-01 21:28:00.791447: I tensorflow/stream_executor/platform/default/dso_loader.cc:49] Successfully opened dynamic library libcusparse.so.10\n",
      "2022-01-01 21:28:00.791456: I tensorflow/stream_executor/platform/default/dso_loader.cc:49] Successfully opened dynamic library libcudnn.so.7\n",
      "2022-01-01 21:28:00.791495: I tensorflow/stream_executor/cuda/cuda_gpu_executor.cc:941] successful NUMA node read from SysFS had negative value (-1), but there must be at least one NUMA node, so returning NUMA node zero\n",
      "2022-01-01 21:28:00.791814: I tensorflow/stream_executor/cuda/cuda_gpu_executor.cc:941] successful NUMA node read from SysFS had negative value (-1), but there must be at least one NUMA node, so returning NUMA node zero\n",
      "2022-01-01 21:28:00.792105: I tensorflow/core/common_runtime/gpu/gpu_device.cc:1862] Adding visible gpu devices: 0\n",
      "2022-01-01 21:28:00.792118: I tensorflow/core/common_runtime/gpu/gpu_device.cc:1261] Device interconnect StreamExecutor with strength 1 edge matrix:\n",
      "2022-01-01 21:28:00.792122: I tensorflow/core/common_runtime/gpu/gpu_device.cc:1267]      0 \n",
      "2022-01-01 21:28:00.792125: I tensorflow/core/common_runtime/gpu/gpu_device.cc:1280] 0:   N \n",
      "2022-01-01 21:28:00.792184: I tensorflow/stream_executor/cuda/cuda_gpu_executor.cc:941] successful NUMA node read from SysFS had negative value (-1), but there must be at least one NUMA node, so returning NUMA node zero\n",
      "2022-01-01 21:28:00.792508: I tensorflow/stream_executor/cuda/cuda_gpu_executor.cc:941] successful NUMA node read from SysFS had negative value (-1), but there must be at least one NUMA node, so returning NUMA node zero\n",
      "2022-01-01 21:28:00.792804: I tensorflow/core/common_runtime/gpu/gpu_device.cc:1406] Created TensorFlow device (/device:GPU:0 with 6741 MB memory) -> physical GPU (device: 0, name: NVIDIA GeForce RTX 2070 with Max-Q Design, pci bus id: 0000:01:00.0, compute capability: 7.5)\n"
     ]
    }
   ],
   "source": [
    "import tensorflow as tf\n",
    "import tensorflow.keras.backend as K\n",
    "K.clear_session()\n",
    "# tf.debugging.set_log_device_placement(True)\n",
    "\n",
    "print(\"Here: \")\n",
    "print(tf.test.is_built_with_cuda())\n",
    "print()\n",
    "\n",
    "if tf.test.gpu_device_name():\n",
    "    print(\"#############################################################\")\n",
    "    print('Default GPU Device: {}'.format(tf.test.gpu_device_name()))\n",
    "    print(\"#############################################################\")\n",
    "else:\n",
    "    print(\"Please install GPU version of TF\")"
   ]
  },
  {
   "cell_type": "code",
   "execution_count": 4,
   "id": "006ebba6",
   "metadata": {},
   "outputs": [
    {
     "name": "stdout",
     "output_type": "stream",
     "text": [
      "Num GPUs Available:  1\n"
     ]
    },
    {
     "name": "stderr",
     "output_type": "stream",
     "text": [
      "2022-01-01 21:28:00.815217: I tensorflow/compiler/jit/xla_cpu_device.cc:41] Not creating XLA devices, tf_xla_enable_xla_devices not set\n",
      "2022-01-01 21:28:00.815382: I tensorflow/stream_executor/cuda/cuda_gpu_executor.cc:941] successful NUMA node read from SysFS had negative value (-1), but there must be at least one NUMA node, so returning NUMA node zero\n",
      "2022-01-01 21:28:00.815742: I tensorflow/core/common_runtime/gpu/gpu_device.cc:1720] Found device 0 with properties: \n",
      "pciBusID: 0000:01:00.0 name: NVIDIA GeForce RTX 2070 with Max-Q Design computeCapability: 7.5\n",
      "coreClock: 1.185GHz coreCount: 36 deviceMemorySize: 7.79GiB deviceMemoryBandwidth: 357.69GiB/s\n",
      "2022-01-01 21:28:00.815765: I tensorflow/stream_executor/platform/default/dso_loader.cc:49] Successfully opened dynamic library libcudart.so.10.1\n",
      "2022-01-01 21:28:00.815787: I tensorflow/stream_executor/platform/default/dso_loader.cc:49] Successfully opened dynamic library libcublas.so.10\n",
      "2022-01-01 21:28:00.815797: I tensorflow/stream_executor/platform/default/dso_loader.cc:49] Successfully opened dynamic library libcublasLt.so.10\n",
      "2022-01-01 21:28:00.815806: I tensorflow/stream_executor/platform/default/dso_loader.cc:49] Successfully opened dynamic library libcufft.so.10\n",
      "2022-01-01 21:28:00.815816: I tensorflow/stream_executor/platform/default/dso_loader.cc:49] Successfully opened dynamic library libcurand.so.10\n",
      "2022-01-01 21:28:00.815826: I tensorflow/stream_executor/platform/default/dso_loader.cc:49] Successfully opened dynamic library libcusolver.so.10\n",
      "2022-01-01 21:28:00.815835: I tensorflow/stream_executor/platform/default/dso_loader.cc:49] Successfully opened dynamic library libcusparse.so.10\n",
      "2022-01-01 21:28:00.815844: I tensorflow/stream_executor/platform/default/dso_loader.cc:49] Successfully opened dynamic library libcudnn.so.7\n",
      "2022-01-01 21:28:00.815895: I tensorflow/stream_executor/cuda/cuda_gpu_executor.cc:941] successful NUMA node read from SysFS had negative value (-1), but there must be at least one NUMA node, so returning NUMA node zero\n",
      "2022-01-01 21:28:00.816224: I tensorflow/stream_executor/cuda/cuda_gpu_executor.cc:941] successful NUMA node read from SysFS had negative value (-1), but there must be at least one NUMA node, so returning NUMA node zero\n",
      "2022-01-01 21:28:00.816629: I tensorflow/core/common_runtime/gpu/gpu_device.cc:1862] Adding visible gpu devices: 0\n"
     ]
    }
   ],
   "source": [
    "print(\"Num GPUs Available: \", len(tf.config.list_physical_devices('GPU')))"
   ]
  },
  {
   "cell_type": "code",
   "execution_count": 5,
   "id": "1e24fbaf",
   "metadata": {},
   "outputs": [
    {
     "name": "stderr",
     "output_type": "stream",
     "text": [
      "2022-01-01 21:28:01.273492: I tensorflow/compiler/jit/xla_gpu_device.cc:99] Not creating XLA devices, tf_xla_enable_xla_devices not set\n",
      "2022-01-01 21:28:01.273626: I tensorflow/stream_executor/cuda/cuda_gpu_executor.cc:941] successful NUMA node read from SysFS had negative value (-1), but there must be at least one NUMA node, so returning NUMA node zero\n",
      "2022-01-01 21:28:01.274006: I tensorflow/core/common_runtime/gpu/gpu_device.cc:1720] Found device 0 with properties: \n",
      "pciBusID: 0000:01:00.0 name: NVIDIA GeForce RTX 2070 with Max-Q Design computeCapability: 7.5\n",
      "coreClock: 1.185GHz coreCount: 36 deviceMemorySize: 7.79GiB deviceMemoryBandwidth: 357.69GiB/s\n",
      "2022-01-01 21:28:01.274033: I tensorflow/stream_executor/platform/default/dso_loader.cc:49] Successfully opened dynamic library libcudart.so.10.1\n",
      "2022-01-01 21:28:01.274060: I tensorflow/stream_executor/platform/default/dso_loader.cc:49] Successfully opened dynamic library libcublas.so.10\n",
      "2022-01-01 21:28:01.274071: I tensorflow/stream_executor/platform/default/dso_loader.cc:49] Successfully opened dynamic library libcublasLt.so.10\n",
      "2022-01-01 21:28:01.274081: I tensorflow/stream_executor/platform/default/dso_loader.cc:49] Successfully opened dynamic library libcufft.so.10\n",
      "2022-01-01 21:28:01.274091: I tensorflow/stream_executor/platform/default/dso_loader.cc:49] Successfully opened dynamic library libcurand.so.10\n",
      "2022-01-01 21:28:01.274102: I tensorflow/stream_executor/platform/default/dso_loader.cc:49] Successfully opened dynamic library libcusolver.so.10\n",
      "2022-01-01 21:28:01.274112: I tensorflow/stream_executor/platform/default/dso_loader.cc:49] Successfully opened dynamic library libcusparse.so.10\n",
      "2022-01-01 21:28:01.274122: I tensorflow/stream_executor/platform/default/dso_loader.cc:49] Successfully opened dynamic library libcudnn.so.7\n",
      "2022-01-01 21:28:01.274181: I tensorflow/stream_executor/cuda/cuda_gpu_executor.cc:941] successful NUMA node read from SysFS had negative value (-1), but there must be at least one NUMA node, so returning NUMA node zero\n",
      "2022-01-01 21:28:01.274552: I tensorflow/stream_executor/cuda/cuda_gpu_executor.cc:941] successful NUMA node read from SysFS had negative value (-1), but there must be at least one NUMA node, so returning NUMA node zero\n",
      "2022-01-01 21:28:01.274859: I tensorflow/core/common_runtime/gpu/gpu_device.cc:1862] Adding visible gpu devices: 0\n",
      "2022-01-01 21:28:01.274882: I tensorflow/core/common_runtime/gpu/gpu_device.cc:1261] Device interconnect StreamExecutor with strength 1 edge matrix:\n",
      "2022-01-01 21:28:01.274887: I tensorflow/core/common_runtime/gpu/gpu_device.cc:1267]      0 \n",
      "2022-01-01 21:28:01.274891: I tensorflow/core/common_runtime/gpu/gpu_device.cc:1280] 0:   N \n",
      "2022-01-01 21:28:01.274962: I tensorflow/stream_executor/cuda/cuda_gpu_executor.cc:941] successful NUMA node read from SysFS had negative value (-1), but there must be at least one NUMA node, so returning NUMA node zero\n",
      "2022-01-01 21:28:01.275310: I tensorflow/stream_executor/cuda/cuda_gpu_executor.cc:941] successful NUMA node read from SysFS had negative value (-1), but there must be at least one NUMA node, so returning NUMA node zero\n",
      "2022-01-01 21:28:01.275676: I tensorflow/core/common_runtime/gpu/gpu_device.cc:1406] Created TensorFlow device (/job:localhost/replica:0/task:0/device:GPU:0 with 6741 MB memory) -> physical GPU (device: 0, name: NVIDIA GeForce RTX 2070 with Max-Q Design, pci bus id: 0000:01:00.0, compute capability: 7.5)\n"
     ]
    }
   ],
   "source": [
    "from tensorflow.compat.v1 import ConfigProto\n",
    "from tensorflow.compat.v1 import InteractiveSession\n",
    "\n",
    "config = ConfigProto()\n",
    "config.gpu_options.allow_growth = True\n",
    "session = InteractiveSession(config=config)"
   ]
  },
  {
   "cell_type": "code",
   "execution_count": 7,
   "id": "0da4db27",
   "metadata": {},
   "outputs": [],
   "source": [
    "# physical_devices = tf.config.list_physical_devices('GPU')\n",
    "# tf.config.experimental.set_memory_growth(physical_devices[0], True)"
   ]
  },
  {
   "cell_type": "markdown",
   "id": "1f155606",
   "metadata": {},
   "source": [
    "# Preprocessing"
   ]
  },
  {
   "cell_type": "code",
   "execution_count": 6,
   "id": "be5af05a",
   "metadata": {
    "ExecuteTime": {
     "end_time": "2021-11-13T04:54:44.933189Z",
     "start_time": "2021-11-13T04:54:44.923852Z"
    }
   },
   "outputs": [],
   "source": [
    "import pandas as pd\n",
    "import numpy as np\n",
    "import matplotlib.pyplot as plt\n",
    "\n",
    "import tensorflow as tf\n",
    "from tensorflow.keras.preprocessing.image import ImageDataGenerator\n",
    "\n",
    "from tensorflow.keras.models import Sequential\n",
    "from tensorflow.keras.layers import Conv2D, MaxPool2D, Flatten, Dense, Dropout\n",
    "\n",
    "from tensorflow.keras.optimizers import Adagrad, Adadelta, RMSprop, Adam, Adamax"
   ]
  },
  {
   "cell_type": "code",
   "execution_count": 8,
   "id": "3271f250",
   "metadata": {
    "ExecuteTime": {
     "end_time": "2021-11-13T04:54:45.110770Z",
     "start_time": "2021-11-13T04:54:45.101109Z"
    }
   },
   "outputs": [
    {
     "data": {
      "text/plain": [
       "'2.4.1'"
      ]
     },
     "execution_count": 8,
     "metadata": {},
     "output_type": "execute_result"
    }
   ],
   "source": [
    "tf.__version__"
   ]
  },
  {
   "cell_type": "markdown",
   "id": "bbbfa039",
   "metadata": {},
   "source": [
    "## Splitting the images"
   ]
  },
  {
   "cell_type": "code",
   "execution_count": 10,
   "id": "b75a45d3",
   "metadata": {},
   "outputs": [
    {
     "name": "stdout",
     "output_type": "stream",
     "text": [
      "Requirement already satisfied: directory_structure in /home/hui/anaconda3/envs/tensorflow_gpu/lib/python3.8/site-packages (1.1.2)\n",
      "Requirement already satisfied: emoji in /home/hui/anaconda3/envs/tensorflow_gpu/lib/python3.8/site-packages (from directory_structure) (1.6.1)\n"
     ]
    }
   ],
   "source": [
    "!pip install directory_structure"
   ]
  },
  {
   "cell_type": "code",
   "execution_count": 11,
   "id": "5bc6f7ff",
   "metadata": {},
   "outputs": [
    {
     "name": "stdout",
     "output_type": "stream",
     "text": [
      "📂 train\n",
      "|_📁 cat\n",
      "|_📁 dog\n",
      "📂 val\n",
      "|_📁 cat\n",
      "|_📁 dog\n",
      "📂 test\n",
      "|_📁 cat\n",
      "|_📁 dog\n"
     ]
    }
   ],
   "source": [
    "from directory_structure import Tree\n",
    "\n",
    "print(Tree(\"./dataset/train/\"))\n",
    "print(Tree(\"./dataset/val/\"))\n",
    "print(Tree(\"./dataset/test/\"))"
   ]
  },
  {
   "cell_type": "markdown",
   "id": "f93ded19",
   "metadata": {},
   "source": [
    "We apply transformation on the training set images in order to avoid overfitting. The transformation includes geomatrical transformation, rotating, zoom in/ ou, and etc and it is called \"image augmentation\", which applies to the training set in order to avoid the CNN model to overfitting."
   ]
  },
  {
   "cell_type": "markdown",
   "id": "5d050141",
   "metadata": {},
   "source": [
    "### Training Set"
   ]
  },
  {
   "cell_type": "code",
   "execution_count": 7,
   "id": "e1bdfd73",
   "metadata": {
    "ExecuteTime": {
     "end_time": "2021-11-13T04:54:45.807375Z",
     "start_time": "2021-11-13T04:54:45.801685Z"
    }
   },
   "outputs": [],
   "source": [
    "train_datagen = ImageDataGenerator(\n",
    "    rescale=1./255,\n",
    "    shear_range=0.2,\n",
    "    zoom_range=0.2,\n",
    "    horizontal_flip=True)\n",
    "\n",
    "\n",
    "# rescale - the transformation of the pixel val by 255 to have range 0 - 1. Similar to normalization."
   ]
  },
  {
   "cell_type": "code",
   "execution_count": 8,
   "id": "64e3a836",
   "metadata": {
    "ExecuteTime": {
     "end_time": "2021-11-13T04:54:46.140647Z",
     "start_time": "2021-11-13T04:54:45.969707Z"
    }
   },
   "outputs": [
    {
     "name": "stdout",
     "output_type": "stream",
     "text": [
      "Found 16000 images belonging to 2 classes.\n"
     ]
    }
   ],
   "source": [
    "train_set = train_datagen.flow_from_directory(\n",
    "    './dataset/train/',\n",
    "    target_size=(64, 64),\n",
    "    batch_size=32,\n",
    "    class_mode='binary')\n",
    "\n",
    "\n",
    "# target_size - image size that we gonna fit into the CNN model.\n",
    "#bat_size - the # of image that we want per each batch, default is 32.\n",
    "#class_mode - the outcome that we expect to have."
   ]
  },
  {
   "cell_type": "markdown",
   "id": "67023053",
   "metadata": {},
   "source": [
    "### Val set"
   ]
  },
  {
   "cell_type": "code",
   "execution_count": 9,
   "id": "26eb829b",
   "metadata": {
    "ExecuteTime": {
     "end_time": "2021-12-30T19:12:00.847573Z",
     "start_time": "2021-12-30T19:12:00.803102Z"
    }
   },
   "outputs": [],
   "source": [
    "val_datagen = ImageDataGenerator(rescale=1./255)"
   ]
  },
  {
   "cell_type": "code",
   "execution_count": 10,
   "id": "4ef46c72",
   "metadata": {},
   "outputs": [
    {
     "name": "stdout",
     "output_type": "stream",
     "text": [
      "Found 4000 images belonging to 2 classes.\n"
     ]
    }
   ],
   "source": [
    "val_set = val_datagen.flow_from_directory(\n",
    "    './dataset/val/',\n",
    "    target_size=(64, 64),\n",
    "    batch_size=32,\n",
    "    class_mode='binary')"
   ]
  },
  {
   "cell_type": "markdown",
   "id": "fcd04600",
   "metadata": {},
   "source": [
    "### Test Set"
   ]
  },
  {
   "cell_type": "code",
   "execution_count": 7,
   "id": "ee77c326",
   "metadata": {
    "ExecuteTime": {
     "end_time": "2021-11-13T04:54:46.312168Z",
     "start_time": "2021-11-13T04:54:46.306087Z"
    }
   },
   "outputs": [],
   "source": [
    "test_datagen = ImageDataGenerator(rescale=1./255)\n",
    "# this will act like transformation that we have with the feature scaling where we only apply transformation on the test set. \n",
    "# However, with the image data, we apply rescale to the test set."
   ]
  },
  {
   "cell_type": "code",
   "execution_count": 8,
   "id": "37f0b2a7",
   "metadata": {
    "ExecuteTime": {
     "end_time": "2021-11-13T04:54:46.504960Z",
     "start_time": "2021-11-13T04:54:46.459871Z"
    }
   },
   "outputs": [
    {
     "name": "stdout",
     "output_type": "stream",
     "text": [
      "Found 100 images belonging to 2 classes.\n"
     ]
    }
   ],
   "source": [
    "test_set = test_datagen.flow_from_directory(\n",
    "    './dataset/test/',\n",
    "    target_size=(64, 64),\n",
    "    batch_size=32,\n",
    "    class_mode='binary')"
   ]
  },
  {
   "cell_type": "markdown",
   "id": "0a373745",
   "metadata": {},
   "source": [
    "# The CNN model"
   ]
  },
  {
   "cell_type": "markdown",
   "id": "f0009b12",
   "metadata": {},
   "source": [
    "## The model"
   ]
  },
  {
   "cell_type": "markdown",
   "id": "14f7eee2",
   "metadata": {},
   "source": [
    "1) Convolution Layer:\n",
    "\n",
    "* filters - the feature detector/ filter\n",
    "* kernel_size - the size of the feature detector/ filter matrix\n",
    "* input_shape - the image size that we gonna have. Since we resize it to (64, 64) and then 3 as we are working on color image. If we have black/ white image, we would have 1.\n",
    "\n",
    "2) MaxPooling:\n",
    "\n",
    "* pool_size - the frame that select/ workthrough the feature map\n",
    "* strides - the # of shift of the frame on the feature map\n",
    "* padding - if the stride out of matric range, we can ignore it with \"valid\" parameter val\n",
    "\n",
    "3) Second Convolution Layer\n",
    "4) Second MaxPooling\n",
    "5) Flatterning\n",
    "6) Fully Connected Layer\n",
    "7) Output Layer"
   ]
  },
  {
   "cell_type": "code",
   "execution_count": 18,
   "id": "86c313f0",
   "metadata": {},
   "outputs": [
    {
     "name": "stderr",
     "output_type": "stream",
     "text": [
      "2021-12-31 22:03:54.610947: I tensorflow/compiler/jit/xla_gpu_device.cc:99] Not creating XLA devices, tf_xla_enable_xla_devices not set\n",
      "2021-12-31 22:03:54.611087: I tensorflow/stream_executor/cuda/cuda_gpu_executor.cc:941] successful NUMA node read from SysFS had negative value (-1), but there must be at least one NUMA node, so returning NUMA node zero\n",
      "2021-12-31 22:03:54.611442: I tensorflow/core/common_runtime/gpu/gpu_device.cc:1720] Found device 0 with properties: \n",
      "pciBusID: 0000:01:00.0 name: NVIDIA GeForce RTX 2070 with Max-Q Design computeCapability: 7.5\n",
      "coreClock: 1.185GHz coreCount: 36 deviceMemorySize: 7.79GiB deviceMemoryBandwidth: 357.69GiB/s\n",
      "2021-12-31 22:03:54.611465: I tensorflow/stream_executor/platform/default/dso_loader.cc:49] Successfully opened dynamic library libcudart.so.10.1\n",
      "2021-12-31 22:03:54.611485: I tensorflow/stream_executor/platform/default/dso_loader.cc:49] Successfully opened dynamic library libcublas.so.10\n",
      "2021-12-31 22:03:54.611496: I tensorflow/stream_executor/platform/default/dso_loader.cc:49] Successfully opened dynamic library libcublasLt.so.10\n",
      "2021-12-31 22:03:54.611507: I tensorflow/stream_executor/platform/default/dso_loader.cc:49] Successfully opened dynamic library libcufft.so.10\n",
      "2021-12-31 22:03:54.611519: I tensorflow/stream_executor/platform/default/dso_loader.cc:49] Successfully opened dynamic library libcurand.so.10\n",
      "2021-12-31 22:03:54.611530: I tensorflow/stream_executor/platform/default/dso_loader.cc:49] Successfully opened dynamic library libcusolver.so.10\n",
      "2021-12-31 22:03:54.611541: I tensorflow/stream_executor/platform/default/dso_loader.cc:49] Successfully opened dynamic library libcusparse.so.10\n",
      "2021-12-31 22:03:54.611552: I tensorflow/stream_executor/platform/default/dso_loader.cc:49] Successfully opened dynamic library libcudnn.so.7\n",
      "2021-12-31 22:03:54.611600: I tensorflow/stream_executor/cuda/cuda_gpu_executor.cc:941] successful NUMA node read from SysFS had negative value (-1), but there must be at least one NUMA node, so returning NUMA node zero\n",
      "2021-12-31 22:03:54.611945: I tensorflow/stream_executor/cuda/cuda_gpu_executor.cc:941] successful NUMA node read from SysFS had negative value (-1), but there must be at least one NUMA node, so returning NUMA node zero\n",
      "2021-12-31 22:03:54.612247: I tensorflow/core/common_runtime/gpu/gpu_device.cc:1862] Adding visible gpu devices: 0\n",
      "2021-12-31 22:03:54.612269: I tensorflow/core/common_runtime/gpu/gpu_device.cc:1261] Device interconnect StreamExecutor with strength 1 edge matrix:\n",
      "2021-12-31 22:03:54.612274: I tensorflow/core/common_runtime/gpu/gpu_device.cc:1267]      0 \n",
      "2021-12-31 22:03:54.612278: I tensorflow/core/common_runtime/gpu/gpu_device.cc:1280] 0:   N \n",
      "2021-12-31 22:03:54.612348: I tensorflow/stream_executor/cuda/cuda_gpu_executor.cc:941] successful NUMA node read from SysFS had negative value (-1), but there must be at least one NUMA node, so returning NUMA node zero\n",
      "2021-12-31 22:03:54.612687: I tensorflow/stream_executor/cuda/cuda_gpu_executor.cc:941] successful NUMA node read from SysFS had negative value (-1), but there must be at least one NUMA node, so returning NUMA node zero\n",
      "2021-12-31 22:03:54.613002: I tensorflow/core/common_runtime/gpu/gpu_device.cc:1406] Created TensorFlow device (/job:localhost/replica:0/task:0/device:GPU:0 with 6920 MB memory) -> physical GPU (device: 0, name: NVIDIA GeForce RTX 2070 with Max-Q Design, pci bus id: 0000:01:00.0, compute capability: 7.5)\n"
     ]
    }
   ],
   "source": [
    "cnn = Sequential([\n",
    "        Conv2D(filters=32, kernel_size=3, activation=\"relu\", input_shape=[64, 64, 3]),\n",
    "        MaxPool2D(pool_size=2, strides=2, padding=\"valid\"),\n",
    "        # Dropout(0.2),\n",
    "        Conv2D(filters=32, kernel_size=3, activation=\"relu\"),\n",
    "        MaxPool2D(pool_size=2, strides=2, padding=\"valid\"),\n",
    "        # Dropout(0.2),\n",
    "        Conv2D(filters=32, kernel_size=3, activation=\"relu\"),\n",
    "        MaxPool2D(pool_size=2, strides=2, padding=\"valid\"),\n",
    "        # Dropout(0.2),\n",
    "        Conv2D(filters=128, kernel_size=3, activation=\"relu\"),\n",
    "        MaxPool2D(pool_size=2, strides=2, padding=\"valid\"),\n",
    "        # Dropout(0.5),\n",
    "        Flatten(),\n",
    "        Dense(units=128, activation=\"relu\"),\n",
    "        Dense(units=1, activation=\"sigmoid\"),\n",
    "    ])"
   ]
  },
  {
   "cell_type": "code",
   "execution_count": 19,
   "id": "8c3f2dd2",
   "metadata": {},
   "outputs": [
    {
     "name": "stdout",
     "output_type": "stream",
     "text": [
      "Model: \"sequential\"\n",
      "_________________________________________________________________\n",
      "Layer (type)                 Output Shape              Param #   \n",
      "=================================================================\n",
      "conv2d (Conv2D)              (None, 62, 62, 32)        896       \n",
      "_________________________________________________________________\n",
      "max_pooling2d (MaxPooling2D) (None, 31, 31, 32)        0         \n",
      "_________________________________________________________________\n",
      "conv2d_1 (Conv2D)            (None, 29, 29, 32)        9248      \n",
      "_________________________________________________________________\n",
      "max_pooling2d_1 (MaxPooling2 (None, 14, 14, 32)        0         \n",
      "_________________________________________________________________\n",
      "conv2d_2 (Conv2D)            (None, 12, 12, 32)        9248      \n",
      "_________________________________________________________________\n",
      "max_pooling2d_2 (MaxPooling2 (None, 6, 6, 32)          0         \n",
      "_________________________________________________________________\n",
      "conv2d_3 (Conv2D)            (None, 4, 4, 128)         36992     \n",
      "_________________________________________________________________\n",
      "max_pooling2d_3 (MaxPooling2 (None, 2, 2, 128)         0         \n",
      "_________________________________________________________________\n",
      "flatten (Flatten)            (None, 512)               0         \n",
      "_________________________________________________________________\n",
      "dense (Dense)                (None, 128)               65664     \n",
      "_________________________________________________________________\n",
      "dense_1 (Dense)              (None, 1)                 129       \n",
      "=================================================================\n",
      "Total params: 122,177\n",
      "Trainable params: 122,177\n",
      "Non-trainable params: 0\n",
      "_________________________________________________________________\n"
     ]
    }
   ],
   "source": [
    "cnn.summary()"
   ]
  },
  {
   "cell_type": "code",
   "execution_count": 20,
   "id": "c35670d8",
   "metadata": {
    "ExecuteTime": {
     "end_time": "2021-11-13T04:54:46.950032Z",
     "start_time": "2021-11-13T04:54:46.943285Z"
    }
   },
   "outputs": [],
   "source": [
    "def CNN_model(optimizer, loss_fun, metrics_list):\n",
    "    cnn = Sequential([\n",
    "        Conv2D(filters=32, kernel_size=3, activation=\"relu\", input_shape=[64, 64, 3]),\n",
    "        MaxPool2D(pool_size=2, strides=2, padding=\"valid\"),\n",
    "        # Dropout(0.2),\n",
    "        Conv2D(filters=32, kernel_size=3, activation=\"relu\"),\n",
    "        MaxPool2D(pool_size=2, strides=2, padding=\"valid\"),\n",
    "        # Dropout(0.2),\n",
    "        Conv2D(filters=32, kernel_size=3, activation=\"relu\"),\n",
    "        MaxPool2D(pool_size=2, strides=2, padding=\"valid\"),\n",
    "        # Dropout(0.2),\n",
    "        Conv2D(filters=128, kernel_size=3, activation=\"relu\"),\n",
    "        MaxPool2D(pool_size=2, strides=2, padding=\"valid\"),\n",
    "        # Dropout(0.5),\n",
    "        Flatten(),\n",
    "        Dense(units=128, activation=\"relu\"),\n",
    "        Dense(units=1, activation=\"sigmoid\"),\n",
    "    ])\n",
    "\n",
    "    cnn.compile(optimizer=optimizer, loss=loss_fun, metrics=metrics_list)\n",
    "    \n",
    "    return cnn"
   ]
  },
  {
   "cell_type": "code",
   "execution_count": 21,
   "id": "447cad26",
   "metadata": {},
   "outputs": [],
   "source": [
    "# cnn.summary()"
   ]
  },
  {
   "cell_type": "markdown",
   "id": "deba29af",
   "metadata": {},
   "source": [
    "# Training the CNN"
   ]
  },
  {
   "cell_type": "markdown",
   "id": "16803680",
   "metadata": {},
   "source": [
    "## Train the CNN on the training set and evaluating the test set"
   ]
  },
  {
   "cell_type": "markdown",
   "id": "638464c7",
   "metadata": {},
   "source": [
    "Setup the optimizers along with the hyperparameters."
   ]
  },
  {
   "cell_type": "code",
   "execution_count": 22,
   "id": "8a7f5d08",
   "metadata": {},
   "outputs": [],
   "source": [
    "optimizer_list = [\n",
    "    {\"name\": \"Adagrad\", \"model\": Adagrad(learning_rate=0.001, initial_accumulator_value=0.1, name=\"Adagrad\")}, \n",
    "    {\"name\": \"Adadelta\", \"model\": Adadelta(learning_rate=0.001, rho=0.95, name='Adadelta')},\n",
    "    {\"name\": \"RMSprop\", \"model\": RMSprop(learning_rate=0.001, rho=0.9, momentum=0.0, name='RMSprop')},\n",
    "    {\"name\": \"Adam\", \"model\": Adam(learning_rate=0.001, beta_1=0.9, beta_2=0.999, name='Adam')},\n",
    "    {\"name\": \"Adamax\", \"model\": Adamax(learning_rate=0.001, beta_1=0.9, beta_2=0.999, name='Adamax')},\n",
    "]"
   ]
  },
  {
   "cell_type": "code",
   "execution_count": 23,
   "id": "c778a914",
   "metadata": {},
   "outputs": [],
   "source": [
    "optimizer_model_fit = []"
   ]
  },
  {
   "cell_type": "code",
   "execution_count": 24,
   "id": "9890090e",
   "metadata": {},
   "outputs": [],
   "source": [
    "for optimizer in optimizer_list:\n",
    "    optimizer_model_fit.append({\n",
    "        \"name\": optimizer[\"name\"],\n",
    "        \"fit_model\": CNN_model(optimizer[\"model\"], \"binary_crossentropy\", [\"accuracy\"]),\n",
    "    })"
   ]
  },
  {
   "cell_type": "code",
   "execution_count": 25,
   "id": "09ea52b7",
   "metadata": {},
   "outputs": [],
   "source": [
    "# cnn.compile(optimizer=Adagrad(learning_rate=0.01), loss=\"binary_crossentropy\", metrics=[\"accuracy\"])\n",
    "# cnn.fit(x=train_set, validation_data=val_set, epochs=25)"
   ]
  },
  {
   "cell_type": "markdown",
   "id": "ac7b46a0",
   "metadata": {},
   "source": [
    "Training for each optimizers."
   ]
  },
  {
   "cell_type": "code",
   "execution_count": 26,
   "id": "1445b49f",
   "metadata": {},
   "outputs": [],
   "source": [
    "optimizer_model_trained = []"
   ]
  },
  {
   "cell_type": "code",
   "execution_count": 27,
   "id": "3af60000",
   "metadata": {
    "scrolled": false
   },
   "outputs": [
    {
     "name": "stderr",
     "output_type": "stream",
     "text": [
      "2021-12-31 22:03:55.260972: I tensorflow/compiler/mlir/mlir_graph_optimization_pass.cc:116] None of the MLIR optimization passes are enabled (registered 2)\n",
      "2021-12-31 22:03:55.280174: I tensorflow/core/platform/profile_utils/cpu_utils.cc:112] CPU Frequency: 2199995000 Hz\n"
     ]
    },
    {
     "name": "stdout",
     "output_type": "stream",
     "text": [
      "Epoch 1/25\n"
     ]
    },
    {
     "name": "stderr",
     "output_type": "stream",
     "text": [
      "2021-12-31 22:03:55.632007: I tensorflow/stream_executor/platform/default/dso_loader.cc:49] Successfully opened dynamic library libcublas.so.10\n",
      "2021-12-31 22:03:55.831732: I tensorflow/stream_executor/platform/default/dso_loader.cc:49] Successfully opened dynamic library libcudnn.so.7\n",
      "2021-12-31 22:03:56.659243: W tensorflow/stream_executor/gpu/asm_compiler.cc:63] Running ptxas --version returned 256\n",
      "2021-12-31 22:03:56.716760: W tensorflow/stream_executor/gpu/redzone_allocator.cc:314] Internal: ptxas exited with non-zero error code 256, output: \n",
      "Relying on driver to perform ptx compilation. \n",
      "Modify $PATH to customize ptxas location.\n",
      "This message will be only logged once.\n"
     ]
    },
    {
     "name": "stdout",
     "output_type": "stream",
     "text": [
      "500/500 [==============================] - 55s 94ms/step - loss: 0.6930 - accuracy: 0.5148 - val_loss: 0.6915 - val_accuracy: 0.5000\n",
      "Epoch 2/25\n",
      "500/500 [==============================] - 46s 92ms/step - loss: 0.6918 - accuracy: 0.5204 - val_loss: 0.6898 - val_accuracy: 0.5173\n",
      "Epoch 3/25\n",
      "500/500 [==============================] - 46s 92ms/step - loss: 0.6902 - accuracy: 0.5576 - val_loss: 0.6880 - val_accuracy: 0.5525\n",
      "Epoch 4/25\n",
      "500/500 [==============================] - 46s 92ms/step - loss: 0.6888 - accuracy: 0.5668 - val_loss: 0.6861 - val_accuracy: 0.5895\n",
      "Epoch 5/25\n",
      "500/500 [==============================] - 46s 92ms/step - loss: 0.6872 - accuracy: 0.5763 - val_loss: 0.6840 - val_accuracy: 0.5753\n",
      "Epoch 6/25\n",
      "500/500 [==============================] - 46s 92ms/step - loss: 0.6844 - accuracy: 0.5838 - val_loss: 0.6804 - val_accuracy: 0.6025\n",
      "Epoch 7/25\n",
      "500/500 [==============================] - 46s 93ms/step - loss: 0.6820 - accuracy: 0.5894 - val_loss: 0.6769 - val_accuracy: 0.6037\n",
      "Epoch 8/25\n",
      "500/500 [==============================] - 46s 93ms/step - loss: 0.6787 - accuracy: 0.5878 - val_loss: 0.6734 - val_accuracy: 0.6022\n",
      "Epoch 9/25\n",
      "500/500 [==============================] - 46s 93ms/step - loss: 0.6753 - accuracy: 0.5915 - val_loss: 0.6702 - val_accuracy: 0.6020\n",
      "Epoch 10/25\n",
      "500/500 [==============================] - 46s 92ms/step - loss: 0.6716 - accuracy: 0.5955 - val_loss: 0.6651 - val_accuracy: 0.6122\n",
      "Epoch 11/25\n",
      "500/500 [==============================] - 46s 91ms/step - loss: 0.6690 - accuracy: 0.5921 - val_loss: 0.6644 - val_accuracy: 0.5990\n",
      "Epoch 12/25\n",
      "500/500 [==============================] - 46s 91ms/step - loss: 0.6669 - accuracy: 0.6005 - val_loss: 0.6583 - val_accuracy: 0.6220\n",
      "Epoch 13/25\n",
      "500/500 [==============================] - 46s 92ms/step - loss: 0.6625 - accuracy: 0.6026 - val_loss: 0.6645 - val_accuracy: 0.5915\n",
      "Epoch 14/25\n",
      "500/500 [==============================] - 46s 92ms/step - loss: 0.6561 - accuracy: 0.6169 - val_loss: 0.6533 - val_accuracy: 0.6230\n",
      "Epoch 15/25\n",
      "500/500 [==============================] - 46s 92ms/step - loss: 0.6576 - accuracy: 0.6124 - val_loss: 0.6538 - val_accuracy: 0.6170\n",
      "Epoch 16/25\n",
      "500/500 [==============================] - 46s 92ms/step - loss: 0.6522 - accuracy: 0.6196 - val_loss: 0.6452 - val_accuracy: 0.6340\n",
      "Epoch 17/25\n",
      "500/500 [==============================] - 46s 93ms/step - loss: 0.6513 - accuracy: 0.6214 - val_loss: 0.6499 - val_accuracy: 0.6227\n",
      "Epoch 18/25\n",
      "500/500 [==============================] - 46s 93ms/step - loss: 0.6464 - accuracy: 0.6299 - val_loss: 0.6461 - val_accuracy: 0.6313\n",
      "Epoch 19/25\n",
      "500/500 [==============================] - 46s 93ms/step - loss: 0.6457 - accuracy: 0.6318 - val_loss: 0.6421 - val_accuracy: 0.6392\n",
      "Epoch 20/25\n",
      "500/500 [==============================] - 47s 93ms/step - loss: 0.6439 - accuracy: 0.6318 - val_loss: 0.6489 - val_accuracy: 0.6275\n",
      "Epoch 21/25\n",
      "500/500 [==============================] - 46s 93ms/step - loss: 0.6381 - accuracy: 0.6357 - val_loss: 0.6363 - val_accuracy: 0.6440\n",
      "Epoch 22/25\n",
      "500/500 [==============================] - 46s 93ms/step - loss: 0.6383 - accuracy: 0.6365 - val_loss: 0.6348 - val_accuracy: 0.6465\n",
      "Epoch 23/25\n",
      "500/500 [==============================] - 47s 93ms/step - loss: 0.6351 - accuracy: 0.6407 - val_loss: 0.6477 - val_accuracy: 0.6310\n",
      "Epoch 24/25\n",
      "500/500 [==============================] - 47s 93ms/step - loss: 0.6367 - accuracy: 0.6375 - val_loss: 0.6408 - val_accuracy: 0.6398\n",
      "Epoch 25/25\n",
      "500/500 [==============================] - 47s 94ms/step - loss: 0.6310 - accuracy: 0.6445 - val_loss: 0.6262 - val_accuracy: 0.6528\n",
      "Epoch 1/25\n",
      "500/500 [==============================] - 47s 94ms/step - loss: 0.6929 - accuracy: 0.5057 - val_loss: 0.6927 - val_accuracy: 0.5425\n",
      "Epoch 2/25\n",
      "500/500 [==============================] - 46s 91ms/step - loss: 0.6928 - accuracy: 0.5286 - val_loss: 0.6924 - val_accuracy: 0.5495\n",
      "Epoch 3/25\n",
      "500/500 [==============================] - 45s 91ms/step - loss: 0.6926 - accuracy: 0.5464 - val_loss: 0.6922 - val_accuracy: 0.5447\n",
      "Epoch 4/25\n",
      "500/500 [==============================] - 45s 90ms/step - loss: 0.6924 - accuracy: 0.5424 - val_loss: 0.6920 - val_accuracy: 0.5263\n",
      "Epoch 5/25\n",
      "500/500 [==============================] - 45s 91ms/step - loss: 0.6924 - accuracy: 0.5368 - val_loss: 0.6919 - val_accuracy: 0.5142\n",
      "Epoch 6/25\n",
      "500/500 [==============================] - 46s 91ms/step - loss: 0.6920 - accuracy: 0.5236 - val_loss: 0.6917 - val_accuracy: 0.5120\n",
      "Epoch 7/25\n",
      "500/500 [==============================] - 45s 91ms/step - loss: 0.6920 - accuracy: 0.5175 - val_loss: 0.6916 - val_accuracy: 0.5107\n",
      "Epoch 8/25\n",
      "500/500 [==============================] - 46s 91ms/step - loss: 0.6918 - accuracy: 0.5187 - val_loss: 0.6914 - val_accuracy: 0.5082\n",
      "Epoch 9/25\n",
      "500/500 [==============================] - 46s 91ms/step - loss: 0.6919 - accuracy: 0.5135 - val_loss: 0.6913 - val_accuracy: 0.5075\n",
      "Epoch 10/25\n",
      "500/500 [==============================] - 46s 91ms/step - loss: 0.6916 - accuracy: 0.5122 - val_loss: 0.6911 - val_accuracy: 0.5077\n",
      "Epoch 11/25\n",
      "500/500 [==============================] - 47s 94ms/step - loss: 0.6916 - accuracy: 0.5194 - val_loss: 0.6910 - val_accuracy: 0.5088\n",
      "Epoch 12/25\n",
      "500/500 [==============================] - 47s 95ms/step - loss: 0.6913 - accuracy: 0.5159 - val_loss: 0.6908 - val_accuracy: 0.5115\n",
      "Epoch 13/25\n",
      "500/500 [==============================] - 47s 95ms/step - loss: 0.6911 - accuracy: 0.5211 - val_loss: 0.6907 - val_accuracy: 0.5142\n",
      "Epoch 14/25\n",
      "500/500 [==============================] - 48s 95ms/step - loss: 0.6909 - accuracy: 0.5249 - val_loss: 0.6906 - val_accuracy: 0.5188\n",
      "Epoch 15/25\n",
      "500/500 [==============================] - 48s 95ms/step - loss: 0.6910 - accuracy: 0.5342 - val_loss: 0.6904 - val_accuracy: 0.5188\n",
      "Epoch 16/25\n",
      "500/500 [==============================] - 48s 95ms/step - loss: 0.6910 - accuracy: 0.5339 - val_loss: 0.6903 - val_accuracy: 0.5213\n",
      "Epoch 17/25\n",
      "500/500 [==============================] - 48s 95ms/step - loss: 0.6910 - accuracy: 0.5348 - val_loss: 0.6901 - val_accuracy: 0.5272\n",
      "Epoch 18/25\n",
      "500/500 [==============================] - 48s 96ms/step - loss: 0.6905 - accuracy: 0.5428 - val_loss: 0.6900 - val_accuracy: 0.5293\n",
      "Epoch 19/25\n",
      "500/500 [==============================] - 48s 95ms/step - loss: 0.6905 - accuracy: 0.5478 - val_loss: 0.6898 - val_accuracy: 0.5347\n",
      "Epoch 20/25\n",
      "500/500 [==============================] - 48s 95ms/step - loss: 0.6903 - accuracy: 0.5483 - val_loss: 0.6897 - val_accuracy: 0.5397\n",
      "Epoch 21/25\n",
      "500/500 [==============================] - 48s 95ms/step - loss: 0.6904 - accuracy: 0.5552 - val_loss: 0.6895 - val_accuracy: 0.5372\n",
      "Epoch 22/25\n",
      "500/500 [==============================] - 48s 96ms/step - loss: 0.6899 - accuracy: 0.5573 - val_loss: 0.6894 - val_accuracy: 0.5405\n",
      "Epoch 23/25\n",
      "500/500 [==============================] - 48s 96ms/step - loss: 0.6901 - accuracy: 0.5539 - val_loss: 0.6892 - val_accuracy: 0.5465\n",
      "Epoch 24/25\n",
      "500/500 [==============================] - 48s 97ms/step - loss: 0.6898 - accuracy: 0.5619 - val_loss: 0.6890 - val_accuracy: 0.5452\n",
      "Epoch 25/25\n",
      "500/500 [==============================] - 48s 96ms/step - loss: 0.6896 - accuracy: 0.5636 - val_loss: 0.6888 - val_accuracy: 0.5497\n",
      "Epoch 1/25\n",
      "500/500 [==============================] - 49s 96ms/step - loss: 0.6795 - accuracy: 0.5605 - val_loss: 0.6142 - val_accuracy: 0.6590\n",
      "Epoch 2/25\n",
      "500/500 [==============================] - 48s 96ms/step - loss: 0.5852 - accuracy: 0.6895 - val_loss: 0.5728 - val_accuracy: 0.6933\n",
      "Epoch 3/25\n",
      "500/500 [==============================] - 48s 96ms/step - loss: 0.5390 - accuracy: 0.7268 - val_loss: 0.4848 - val_accuracy: 0.7673\n",
      "Epoch 4/25\n",
      "500/500 [==============================] - 48s 96ms/step - loss: 0.4994 - accuracy: 0.7581 - val_loss: 0.4789 - val_accuracy: 0.7760\n",
      "Epoch 5/25\n",
      "500/500 [==============================] - 48s 96ms/step - loss: 0.4741 - accuracy: 0.7749 - val_loss: 0.4074 - val_accuracy: 0.8170\n",
      "Epoch 6/25\n",
      "500/500 [==============================] - 48s 97ms/step - loss: 0.4494 - accuracy: 0.7880 - val_loss: 0.3887 - val_accuracy: 0.8298\n",
      "Epoch 7/25\n",
      "500/500 [==============================] - 48s 96ms/step - loss: 0.4276 - accuracy: 0.8021 - val_loss: 0.3842 - val_accuracy: 0.8257\n",
      "Epoch 8/25\n",
      "500/500 [==============================] - 48s 96ms/step - loss: 0.4047 - accuracy: 0.8188 - val_loss: 0.3733 - val_accuracy: 0.8340\n",
      "Epoch 9/25\n",
      "500/500 [==============================] - 48s 96ms/step - loss: 0.3841 - accuracy: 0.8262 - val_loss: 0.3521 - val_accuracy: 0.8445\n",
      "Epoch 10/25\n",
      "500/500 [==============================] - 49s 98ms/step - loss: 0.3695 - accuracy: 0.8399 - val_loss: 0.3430 - val_accuracy: 0.8440\n",
      "Epoch 11/25\n",
      "500/500 [==============================] - 48s 96ms/step - loss: 0.3615 - accuracy: 0.8418 - val_loss: 0.4275 - val_accuracy: 0.8005\n",
      "Epoch 12/25\n",
      "500/500 [==============================] - 48s 96ms/step - loss: 0.3533 - accuracy: 0.8424 - val_loss: 0.4415 - val_accuracy: 0.8195\n",
      "Epoch 13/25\n",
      "500/500 [==============================] - 48s 97ms/step - loss: 0.3471 - accuracy: 0.8515 - val_loss: 0.3410 - val_accuracy: 0.8525\n",
      "Epoch 14/25\n",
      "500/500 [==============================] - 49s 97ms/step - loss: 0.3361 - accuracy: 0.8564 - val_loss: 0.3228 - val_accuracy: 0.8600\n",
      "Epoch 15/25\n",
      "500/500 [==============================] - 49s 97ms/step - loss: 0.3206 - accuracy: 0.8632 - val_loss: 0.3656 - val_accuracy: 0.8475\n",
      "Epoch 16/25\n",
      "500/500 [==============================] - 49s 97ms/step - loss: 0.3120 - accuracy: 0.8698 - val_loss: 0.3785 - val_accuracy: 0.8313\n",
      "Epoch 17/25\n",
      "500/500 [==============================] - 48s 97ms/step - loss: 0.3117 - accuracy: 0.8641 - val_loss: 0.5213 - val_accuracy: 0.7860\n",
      "Epoch 18/25\n",
      "500/500 [==============================] - 48s 97ms/step - loss: 0.3025 - accuracy: 0.8738 - val_loss: 0.3041 - val_accuracy: 0.8685\n",
      "Epoch 19/25\n",
      "500/500 [==============================] - 49s 97ms/step - loss: 0.3018 - accuracy: 0.8714 - val_loss: 0.3209 - val_accuracy: 0.8622\n",
      "Epoch 20/25\n",
      "500/500 [==============================] - 48s 97ms/step - loss: 0.3006 - accuracy: 0.8720 - val_loss: 0.3050 - val_accuracy: 0.8705\n",
      "Epoch 21/25\n",
      "500/500 [==============================] - 49s 98ms/step - loss: 0.2993 - accuracy: 0.8722 - val_loss: 0.3422 - val_accuracy: 0.8608\n",
      "Epoch 22/25\n",
      "500/500 [==============================] - 48s 97ms/step - loss: 0.2955 - accuracy: 0.8747 - val_loss: 0.3516 - val_accuracy: 0.8558\n",
      "Epoch 23/25\n",
      "500/500 [==============================] - 48s 97ms/step - loss: 0.2830 - accuracy: 0.8816 - val_loss: 0.4047 - val_accuracy: 0.8250\n",
      "Epoch 24/25\n",
      "500/500 [==============================] - 48s 97ms/step - loss: 0.2916 - accuracy: 0.8791 - val_loss: 0.3596 - val_accuracy: 0.8512\n",
      "Epoch 25/25\n",
      "500/500 [==============================] - 49s 97ms/step - loss: 0.2857 - accuracy: 0.8757 - val_loss: 0.2977 - val_accuracy: 0.8788\n",
      "Epoch 1/25\n",
      "500/500 [==============================] - 49s 98ms/step - loss: 0.6800 - accuracy: 0.5521 - val_loss: 0.5890 - val_accuracy: 0.6812\n",
      "Epoch 2/25\n",
      "500/500 [==============================] - 48s 97ms/step - loss: 0.5930 - accuracy: 0.6810 - val_loss: 0.5357 - val_accuracy: 0.7247\n",
      "Epoch 3/25\n",
      "500/500 [==============================] - 49s 97ms/step - loss: 0.5571 - accuracy: 0.7137 - val_loss: 0.4955 - val_accuracy: 0.7620\n",
      "Epoch 4/25\n",
      "500/500 [==============================] - 49s 98ms/step - loss: 0.5076 - accuracy: 0.7486 - val_loss: 0.4493 - val_accuracy: 0.7887\n",
      "Epoch 5/25\n",
      "500/500 [==============================] - 49s 98ms/step - loss: 0.4675 - accuracy: 0.7735 - val_loss: 0.4362 - val_accuracy: 0.7890\n",
      "Epoch 6/25\n",
      "500/500 [==============================] - 49s 97ms/step - loss: 0.4286 - accuracy: 0.8030 - val_loss: 0.4437 - val_accuracy: 0.7987\n",
      "Epoch 7/25\n",
      "500/500 [==============================] - 50s 99ms/step - loss: 0.4106 - accuracy: 0.8084 - val_loss: 0.4160 - val_accuracy: 0.8098\n",
      "Epoch 8/25\n",
      "500/500 [==============================] - 49s 98ms/step - loss: 0.3918 - accuracy: 0.8172 - val_loss: 0.4113 - val_accuracy: 0.8135\n",
      "Epoch 9/25\n",
      "500/500 [==============================] - 49s 98ms/step - loss: 0.3788 - accuracy: 0.8289 - val_loss: 0.5138 - val_accuracy: 0.7602\n",
      "Epoch 10/25\n",
      "500/500 [==============================] - 49s 98ms/step - loss: 0.3664 - accuracy: 0.8318 - val_loss: 0.4123 - val_accuracy: 0.8080\n",
      "Epoch 11/25\n",
      "500/500 [==============================] - 49s 98ms/step - loss: 0.3450 - accuracy: 0.8443 - val_loss: 0.3371 - val_accuracy: 0.8510\n",
      "Epoch 12/25\n",
      "500/500 [==============================] - 49s 98ms/step - loss: 0.3324 - accuracy: 0.8530 - val_loss: 0.3500 - val_accuracy: 0.8435\n",
      "Epoch 13/25\n",
      "500/500 [==============================] - 49s 99ms/step - loss: 0.3345 - accuracy: 0.8505 - val_loss: 0.3883 - val_accuracy: 0.8397\n",
      "Epoch 14/25\n",
      "500/500 [==============================] - 50s 99ms/step - loss: 0.3213 - accuracy: 0.8591 - val_loss: 0.3258 - val_accuracy: 0.8580\n",
      "Epoch 15/25\n",
      "500/500 [==============================] - 49s 99ms/step - loss: 0.3087 - accuracy: 0.8653 - val_loss: 0.3255 - val_accuracy: 0.8630\n",
      "Epoch 16/25\n",
      "500/500 [==============================] - 50s 100ms/step - loss: 0.2932 - accuracy: 0.8704 - val_loss: 0.3360 - val_accuracy: 0.8520\n",
      "Epoch 17/25\n",
      "500/500 [==============================] - 49s 99ms/step - loss: 0.2921 - accuracy: 0.8686 - val_loss: 0.3355 - val_accuracy: 0.8475\n",
      "Epoch 18/25\n",
      "500/500 [==============================] - 49s 99ms/step - loss: 0.2994 - accuracy: 0.8684 - val_loss: 0.3264 - val_accuracy: 0.8585\n",
      "Epoch 19/25\n",
      "500/500 [==============================] - 49s 99ms/step - loss: 0.2873 - accuracy: 0.8757 - val_loss: 0.3360 - val_accuracy: 0.8497\n",
      "Epoch 20/25\n",
      "500/500 [==============================] - 50s 99ms/step - loss: 0.2766 - accuracy: 0.8798 - val_loss: 0.3165 - val_accuracy: 0.8577\n",
      "Epoch 21/25\n",
      "500/500 [==============================] - 50s 100ms/step - loss: 0.2757 - accuracy: 0.8799 - val_loss: 0.3129 - val_accuracy: 0.8633\n",
      "Epoch 22/25\n",
      "500/500 [==============================] - 50s 99ms/step - loss: 0.2685 - accuracy: 0.8846 - val_loss: 0.3472 - val_accuracy: 0.8530\n",
      "Epoch 23/25\n",
      "500/500 [==============================] - 50s 100ms/step - loss: 0.2576 - accuracy: 0.8923 - val_loss: 0.3431 - val_accuracy: 0.8627\n",
      "Epoch 24/25\n",
      "500/500 [==============================] - 50s 100ms/step - loss: 0.2662 - accuracy: 0.8826 - val_loss: 0.3270 - val_accuracy: 0.8627\n",
      "Epoch 25/25\n",
      "500/500 [==============================] - 50s 100ms/step - loss: 0.2513 - accuracy: 0.8940 - val_loss: 0.3032 - val_accuracy: 0.8745\n",
      "Epoch 1/25\n",
      "500/500 [==============================] - 51s 100ms/step - loss: 0.6782 - accuracy: 0.5623 - val_loss: 0.6251 - val_accuracy: 0.6480\n",
      "Epoch 2/25\n",
      "500/500 [==============================] - 50s 100ms/step - loss: 0.5933 - accuracy: 0.6878 - val_loss: 0.5519 - val_accuracy: 0.7193\n",
      "Epoch 3/25\n",
      "500/500 [==============================] - 50s 100ms/step - loss: 0.5464 - accuracy: 0.7231 - val_loss: 0.5066 - val_accuracy: 0.7542\n",
      "Epoch 4/25\n",
      "500/500 [==============================] - 50s 100ms/step - loss: 0.5165 - accuracy: 0.7384 - val_loss: 0.5269 - val_accuracy: 0.7390\n",
      "Epoch 5/25\n",
      "500/500 [==============================] - 50s 100ms/step - loss: 0.5025 - accuracy: 0.7553 - val_loss: 0.4905 - val_accuracy: 0.7620\n",
      "Epoch 6/25\n",
      "500/500 [==============================] - 50s 100ms/step - loss: 0.4801 - accuracy: 0.7764 - val_loss: 0.5265 - val_accuracy: 0.7505\n",
      "Epoch 7/25\n",
      "500/500 [==============================] - 50s 100ms/step - loss: 0.4627 - accuracy: 0.7799 - val_loss: 0.4396 - val_accuracy: 0.7980\n",
      "Epoch 8/25\n",
      "500/500 [==============================] - 50s 100ms/step - loss: 0.4474 - accuracy: 0.7886 - val_loss: 0.4445 - val_accuracy: 0.7912\n",
      "Epoch 9/25\n",
      "500/500 [==============================] - 52s 104ms/step - loss: 0.4244 - accuracy: 0.8022 - val_loss: 0.3930 - val_accuracy: 0.8217\n",
      "Epoch 10/25\n",
      "500/500 [==============================] - 55s 109ms/step - loss: 0.3984 - accuracy: 0.8203 - val_loss: 0.4243 - val_accuracy: 0.7985\n",
      "Epoch 11/25\n",
      "500/500 [==============================] - 55s 111ms/step - loss: 0.3965 - accuracy: 0.8191 - val_loss: 0.3766 - val_accuracy: 0.8288\n",
      "Epoch 12/25\n",
      "500/500 [==============================] - 51s 103ms/step - loss: 0.3807 - accuracy: 0.8291 - val_loss: 0.4080 - val_accuracy: 0.8092\n",
      "Epoch 13/25\n",
      "500/500 [==============================] - 51s 102ms/step - loss: 0.3783 - accuracy: 0.8311 - val_loss: 0.4655 - val_accuracy: 0.7845\n",
      "Epoch 14/25\n",
      "500/500 [==============================] - 52s 104ms/step - loss: 0.3611 - accuracy: 0.8394 - val_loss: 0.4184 - val_accuracy: 0.8058\n",
      "Epoch 15/25\n",
      "500/500 [==============================] - 51s 101ms/step - loss: 0.3444 - accuracy: 0.8446 - val_loss: 0.3879 - val_accuracy: 0.8270\n",
      "Epoch 16/25\n",
      "500/500 [==============================] - 51s 102ms/step - loss: 0.3332 - accuracy: 0.8545 - val_loss: 0.3872 - val_accuracy: 0.8240\n",
      "Epoch 17/25\n",
      "500/500 [==============================] - 52s 104ms/step - loss: 0.3338 - accuracy: 0.8524 - val_loss: 0.3509 - val_accuracy: 0.8472\n",
      "Epoch 18/25\n",
      "500/500 [==============================] - 51s 102ms/step - loss: 0.3237 - accuracy: 0.8580 - val_loss: 0.3342 - val_accuracy: 0.8562\n",
      "Epoch 19/25\n",
      "500/500 [==============================] - 51s 102ms/step - loss: 0.3217 - accuracy: 0.8580 - val_loss: 0.3502 - val_accuracy: 0.8462\n",
      "Epoch 20/25\n",
      "500/500 [==============================] - 51s 102ms/step - loss: 0.3164 - accuracy: 0.8607 - val_loss: 0.3650 - val_accuracy: 0.8447\n",
      "Epoch 21/25\n",
      "500/500 [==============================] - 51s 102ms/step - loss: 0.3076 - accuracy: 0.8661 - val_loss: 0.3175 - val_accuracy: 0.8645\n",
      "Epoch 22/25\n",
      "500/500 [==============================] - 51s 103ms/step - loss: 0.2993 - accuracy: 0.8732 - val_loss: 0.3251 - val_accuracy: 0.8585\n",
      "Epoch 23/25\n",
      "500/500 [==============================] - 52s 103ms/step - loss: 0.2870 - accuracy: 0.8807 - val_loss: 0.3261 - val_accuracy: 0.8543\n",
      "Epoch 24/25\n",
      "500/500 [==============================] - 51s 102ms/step - loss: 0.2814 - accuracy: 0.8790 - val_loss: 0.3202 - val_accuracy: 0.8608\n",
      "Epoch 25/25\n",
      "500/500 [==============================] - 51s 102ms/step - loss: 0.2924 - accuracy: 0.8743 - val_loss: 0.3244 - val_accuracy: 0.8572\n"
     ]
    }
   ],
   "source": [
    "for trained_model in optimizer_model_fit:\n",
    "    optimizer_model_trained.append({\n",
    "        \"name\": trained_model[\"name\"],\n",
    "        \"trained_model\": trained_model[\"fit_model\"].fit(x=train_set, validation_data=val_set, epochs=25),\n",
    "    })"
   ]
  },
  {
   "cell_type": "code",
   "execution_count": 28,
   "id": "ad92f22a",
   "metadata": {
    "ExecuteTime": {
     "end_time": "2021-11-13T04:54:51.143866Z",
     "start_time": "2021-11-13T04:54:50.564150Z"
    },
    "scrolled": false
   },
   "outputs": [],
   "source": [
    "# print(dir(optimizer_model_trained[0][\"trained_model\"].history))"
   ]
  },
  {
   "cell_type": "markdown",
   "id": "da3cf07c",
   "metadata": {},
   "source": [
    "## Save the models"
   ]
  },
  {
   "cell_type": "code",
   "execution_count": 41,
   "id": "5a891e70",
   "metadata": {},
   "outputs": [],
   "source": [
    "for model in optimizer_model_fit:\n",
    "    model[\"fit_model\"].save(\"./saved_models/\"+model[\"name\"]+\".h5\")"
   ]
  },
  {
   "cell_type": "markdown",
   "id": "849897b1",
   "metadata": {},
   "source": [
    "# Analysis"
   ]
  },
  {
   "cell_type": "markdown",
   "id": "96552e29",
   "metadata": {},
   "source": [
    "## Plot the Accuracy and Loss for the train and validate set"
   ]
  },
  {
   "cell_type": "code",
   "execution_count": 29,
   "id": "8de1819d",
   "metadata": {},
   "outputs": [
    {
     "data": {
      "text/plain": [
       "<Figure size 472.441x314.961 with 0 Axes>"
      ]
     },
     "execution_count": 29,
     "metadata": {},
     "output_type": "execute_result"
    },
    {
     "data": {
      "text/plain": [
       "<Figure size 472.441x314.961 with 0 Axes>"
      ]
     },
     "metadata": {},
     "output_type": "display_data"
    }
   ],
   "source": [
    "def cm_to_inch(value):\n",
    "    return value/2.54\n",
    "\n",
    "plt.figure(figsize=(cm_to_inch(15),cm_to_inch(10)), dpi=80)"
   ]
  },
  {
   "cell_type": "code",
   "execution_count": 30,
   "id": "ad1b3ae2",
   "metadata": {},
   "outputs": [],
   "source": [
    "def plot_model_result_accuracy(model_list):\n",
    "    plt.plot(model_list[0][\"trained_model\"].history['accuracy'], marker=\"o\", color='red', label=(model_list[0][\"name\"]+\" train\"))\n",
    "    plt.plot(model_list[0][\"trained_model\"].history['val_accuracy'], marker=\"x\", color='red', label=(model_list[0][\"name\"]+\" test\"))\n",
    "    plt.plot(model_list[1][\"trained_model\"].history['accuracy'], marker=\"o\", color='green', label=(model_list[1][\"name\"]+\" train\"))\n",
    "    plt.plot(model_list[1][\"trained_model\"].history['val_accuracy'], marker=\"x\", color='green', label=(model_list[1][\"name\"]+\" test\"))\n",
    "    plt.plot(model_list[2][\"trained_model\"].history['accuracy'], marker=\"o\", color='blue', label=(model_list[2][\"name\"]+\" train\"))\n",
    "    plt.plot(model_list[2][\"trained_model\"].history['val_accuracy'], marker=\"x\", color='blue', label=(model_list[2][\"name\"]+\" test\"))\n",
    "    plt.plot(model_list[3][\"trained_model\"].history['accuracy'], marker=\"o\", color='brown', label=(model_list[3][\"name\"]+\" train\"))\n",
    "    plt.plot(model_list[3][\"trained_model\"].history['val_accuracy'], marker=\"x\", color='brown', label=(model_list[3][\"name\"]+\" test\"))\n",
    "    plt.plot(model_list[4][\"trained_model\"].history['accuracy'], marker=\"o\", color='magenta', label=(model_list[4][\"name\"]+\" train\"))\n",
    "    plt.plot(model_list[4][\"trained_model\"].history['val_accuracy'], marker=\"x\", color='magenta', label=(model_list[4][\"name\"]+\" test\"))\n",
    "\n",
    "    plt.title(\"Optimizers Classification Accuracy\")\n",
    "    plt.xlabel(\"Epoches\")\n",
    "    plt.ylabel(\"Accuracy Rate\")\n",
    "    plt.legend()\n",
    "    plt.show()"
   ]
  },
  {
   "cell_type": "code",
   "execution_count": 31,
   "id": "11407186",
   "metadata": {},
   "outputs": [
    {
     "data": {
      "image/png": "[encoded data removed]",
      "text/plain": [
       "<Figure size 432x288 with 1 Axes>"
      ]
     },
     "metadata": {
      "needs_background": "light"
     },
     "output_type": "display_data"
    }
   ],
   "source": [
    "plot_model_result_accuracy(optimizer_model_trained)"
   ]
  },
  {
   "cell_type": "code",
   "execution_count": 42,
   "id": "02551bf6",
   "metadata": {},
   "outputs": [],
   "source": [
    "def plot_model_result_loss(model_list):\n",
    "    plt.plot(model_list[0][\"trained_model\"].history['loss'], marker=\"o\", color='red', label=(model_list[0][\"name\"]+\" train\"))\n",
    "    plt.plot(model_list[0][\"trained_model\"].history['val_loss'], marker=\"x\", color='red', label=(model_list[0][\"name\"]+\" test\"))\n",
    "    plt.plot(model_list[1][\"trained_model\"].history['loss'], marker=\"o\", color='green', label=(model_list[1][\"name\"]+\" train\"))\n",
    "    plt.plot(model_list[1][\"trained_model\"].history['val_loss'], marker=\"x\", color='green', label=(model_list[1][\"name\"]+\" test\"))\n",
    "    plt.plot(model_list[2][\"trained_model\"].history['loss'], marker=\"o\", color='blue', label=(model_list[2][\"name\"]+\" train\"))\n",
    "    plt.plot(model_list[2][\"trained_model\"].history['val_loss'], marker=\"x\", color='blue', label=(model_list[2][\"name\"]+\" test\"))\n",
    "    plt.plot(model_list[3][\"trained_model\"].history['loss'], marker=\"o\", color='brown', label=(model_list[3][\"name\"]+\" train\"))\n",
    "    plt.plot(model_list[3][\"trained_model\"].history['val_loss'], marker=\"x\", color='brown', label=(model_list[3][\"name\"]+\" test\"))\n",
    "    plt.plot(model_list[4][\"trained_model\"].history['loss'], marker=\"o\", color='magenta', label=(model_list[4][\"name\"]+\" train\"))\n",
    "    plt.plot(model_list[4][\"trained_model\"].history['val_loss'], marker=\"x\", color='magenta', label=(model_list[4][\"name\"]+\" test\"))\n",
    "\n",
    "    plt.title(\"Binary Cross Entropy Loss\")\n",
    "    plt.xlabel(\"Epoches\")\n",
    "    plt.ylabel(\"Loss Rate\")\n",
    "    plt.legend()\n",
    "    plt.show()"
   ]
  },
  {
   "cell_type": "code",
   "execution_count": 43,
   "id": "882b7809",
   "metadata": {},
   "outputs": [
    {
     "data": {
      "image/png": "[encoded data removed]",
      "text/plain": [
       "<Figure size 432x288 with 1 Axes>"
      ]
     },
     "metadata": {
      "needs_background": "light"
     },
     "output_type": "display_data"
    }
   ],
   "source": [
    "plot_model_result_loss(optimizer_model_trained)"
   ]
  }
 ],
 "metadata": {
  "interpreter": {
   "hash": "790ae0549be60c79297775963a040dfe042886fdce8b373b73d4fd00dba9bda9"
  },
  "kernelspec": {
   "display_name": "tensorflow_gpu",
   "language": "python",
   "name": "tensorflow_gpu"
  },
  "language_info": {
   "codemirror_mode": {
    "name": "ipython",
    "version": 3
   },
   "file_extension": ".py",
   "mimetype": "text/x-python",
   "name": "python",
   "nbconvert_exporter": "python",
   "pygments_lexer": "ipython3",
   "version": "3.8.12"
  },
  "latex_envs": {
   "LaTeX_envs_menu_present": true,
   "autoclose": false,
   "autocomplete": true,
   "bibliofile": "biblio.bib",
   "cite_by": "apalike",
   "current_citInitial": 1,
   "eqLabelWithNumbers": true,
   "eqNumInitial": 1,
   "hotkeys": {
    "equation": "Ctrl-E",
    "itemize": "Ctrl-I"
   },
   "labels_anchors": false,
   "latex_user_defs": false,
   "report_style_numbering": false,
   "user_envs_cfg": false
  },
  "toc": {
   "base_numbering": 1,
   "nav_menu": {},
   "number_sections": true,
   "sideBar": true,
   "skip_h1_title": false,
   "title_cell": "Table of Contents",
   "title_sidebar": "Contents",
   "toc_cell": true,
   "toc_position": {
    "height": "calc(100% - 180px)",
    "left": "10px",
    "top": "150px",
    "width": "241px"
   },
   "toc_section_display": true,
   "toc_window_display": true
  },
  "varInspector": {
   "cols": {
    "lenName": 16,
    "lenType": 16,
    "lenVar": 40
   },
   "kernels_config": {
    "python": {
     "delete_cmd_postfix": "",
     "delete_cmd_prefix": "del ",
     "library": "var_list.py",
     "varRefreshCmd": "print(var_dic_list())"
    },
    "r": {
     "delete_cmd_postfix": ") ",
     "delete_cmd_prefix": "rm(",
     "library": "var_list.r",
     "varRefreshCmd": "cat(var_dic_list()) "
    }
   },
   "types_to_exclude": [
    "module",
    "function",
    "builtin_function_or_method",
    "instance",
    "_Feature"
   ],
   "window_display": false
  }
 },
 "nbformat": 4,
 "nbformat_minor": 5
}
